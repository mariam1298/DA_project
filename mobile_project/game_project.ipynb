{
 "cells": [
  {
   "cell_type": "markdown",
   "metadata": {},
   "source": [
    "\n",
    "\n",
    "### Установление закономерностей, влияющих на успех продукта на рынке компьютерных игр\n",
    "____\n",
    "##### В данном исследовании представлены графики и таблицы, показывающие состояние рынка компьютерных игр и игровых платформ на момент 2016 года в Северной Америке, Европе и Японии.\n",
    "____\n",
    "    \n",
    "##### Данное исследование можно разделить на несколько частей.\n",
    "#### Изучение общей информации: \n",
    "* [1. Изученеие файлов с данными, получение общей информации, загрузка библиотек](#1-bullet)\n",
    "* [2. Нахождение и обработка пропусков, приведение данных к нужным типам](#2-bullet) \n",
    "* [3. Исследовательский анализ данных](#3-bullet) \n",
    "*    [3.1 Как менялись продажи по платформам](#3.1-bullet)\n",
    "*    [3.2 Корреляции продаж и отзывов ](#3.2-bullet)\n",
    "* [4. Портрет пользователя каждого региона](#4-bullet) \n",
    "* [5. Проверка гипотез ](#5-bullet)\n",
    "*    [5.1 Средние пользовательские рейтинги платформ Xbox One и PC одинаковые](#5.1-bullet)\n",
    "*    [5.2 Средние пользовательские рейтинги жанров Action и Sports  разные.](#5.2-bullet)\n",
    "* [6. Общий вывод ](#6-bullet)   \n",
    "    "
   ]
  },
  {
   "cell_type": "markdown",
   "metadata": {},
   "source": [
    "## Описание данных "
   ]
  },
  {
   "cell_type": "markdown",
   "metadata": {},
   "source": [
    "- Name — название игры\n",
    "- Platform — платформа\n",
    "- Year_of_Release — год выпуска\n",
    "- Genre — жанр игры\n",
    "- NA_sales — продажи в Северной Америке (миллионы проданных копий)\n",
    "- EU_sales — продажи в Европе (миллионы проданных копий)\n",
    "- JP_sales — продажи в Японии (миллионы проданных копий)\n",
    "- Other_sales — продажи в других странах (миллионы проданных копий)\n",
    "- Critic_Score — оценка критиков (максимум 100)\n",
    "- User_Score — оценка пользователей (максимум 10)\n",
    "- Rating — рейтинг от организации ESRB (англ. Entertainment Software Rating Board). Эта ассоциация определяет рейтинг компьютерных игр и присваивает им подходящую возрастную категорию."
   ]
  },
  {
   "cell_type": "code",
   "execution_count": null,
   "metadata": {},
   "outputs": [],
   "source": [
    "import pandas as pd\n",
    "import warnings\n",
    "warnings.filterwarnings('ignore')\n",
    "df.info()\n",
    "df.describe()"
   ]
  },
  {
   "cell_type": "code",
   "execution_count": null,
   "metadata": {},
   "outputs": [],
   "source": [
    "df.sample(10)"
   ]
  },
  {
   "cell_type": "code",
   "execution_count": null,
   "metadata": {},
   "outputs": [],
   "source": [
    "df['Rating'].unique()"
   ]
  },
  {
   "cell_type": "markdown",
   "metadata": {},
   "source": [
    "### Вывод"
   ]
  },
  {
   "cell_type": "markdown",
   "metadata": {},
   "source": [
    "- Необходимо поменять тип данных в 'Year_of_Realese' 'Critic_ core' на целочисленный, 'User_Score' на численный\n",
    "- Cуществуют пропуски в столбцах 'Name','Year_of_Release','Genre','Critic_Score','User_Score'\n",
    "- Данные в датасете адекватны"
   ]
  },
  {
   "cell_type": "markdown",
   "metadata": {},
   "source": [
    "### Шаг 2. Подготовка данных <a name=\"2-bullet\"></a>"
   ]
  },
  {
   "cell_type": "markdown",
   "metadata": {},
   "source": [
    "##### Приведение столбцов к нижнему регистру"
   ]
  },
  {
   "cell_type": "code",
   "execution_count": null,
   "metadata": {},
   "outputs": [],
   "source": [
    "df.columns = df.columns.str.lower()"
   ]
  },
  {
   "cell_type": "markdown",
   "metadata": {},
   "source": [
    "##### замена типов данных"
   ]
  },
  {
   "cell_type": "code",
   "execution_count": null,
   "metadata": {},
   "outputs": [],
   "source": [
    "df.info()"
   ]
  },
  {
   "cell_type": "markdown",
   "metadata": {},
   "source": [
    "Замена в 'user_score' осуществляется потому что в столбце хранятся не строковые данные."
   ]
  },
  {
   "cell_type": "code",
   "execution_count": null,
   "metadata": {},
   "outputs": [],
   "source": [
    "df['user_score'] = pd.to_numeric(df['user_score'],errors='coerce')"
   ]
  },
  {
   "cell_type": "markdown",
   "metadata": {},
   "source": [
    "Замена в 'year_of_release','critic_score' осуществляется потому что в столбцах хранятся целочисленные значения"
   ]
  },
  {
   "cell_type": "code",
   "execution_count": null,
   "metadata": {},
   "outputs": [],
   "source": [
    "df_int=['year_of_release','critic_score']\n",
    "df[df_int]=df[df_int].fillna(-9999)\n",
    "for df_int_i in df_int:\n",
    "    df[df_int_i]=df[df_int_i].astype('int')"
   ]
  },
  {
   "cell_type": "code",
   "execution_count": null,
   "metadata": {},
   "outputs": [],
   "source": [
    "df.info()"
   ]
  },
  {
   "cell_type": "markdown",
   "metadata": {},
   "source": [
    "###### заполнение пропусков"
   ]
  },
  {
   "cell_type": "markdown",
   "metadata": {},
   "source": [
    "\n",
    "\n",
    "В столбце 'Rating' существует такой тип, как RP (Рейтинг ожидается), который по сути тоже является NaNом"
   ]
  },
  {
   "cell_type": "code",
   "execution_count": null,
   "metadata": {},
   "outputs": [],
   "source": [
    "df['rating']= df['rating'].fillna('unknown')\n",
    "df['rating']= df['rating'].replace('RP','unknown')"
   ]
  },
  {
   "cell_type": "markdown",
   "metadata": {},
   "source": [
    "- В столбцах 'Name','Genre', 'year_realise' могли появиться пропуски из-за технических ошибок\n",
    "- В столбцах 'critic_score','user_score' из-за недостатка оценок для формирования какого-то среднего значения. Здесь заполнение пропусков нельзя восстановить по имеющимся данным.\n"
   ]
  },
  {
   "cell_type": "markdown",
   "metadata": {},
   "source": [
    "###### общая сумма продаж"
   ]
  },
  {
   "cell_type": "code",
   "execution_count": null,
   "metadata": {},
   "outputs": [],
   "source": [
    "df['sum_sales']=df['na_sales']+df['eu_sales']+df['jp_sales']"
   ]
  },
  {
   "cell_type": "markdown",
   "metadata": {},
   "source": [
    "### Шаг 3. Проведите исследовательский анализ данных <a name=\"3-bullet\"></a>"
   ]
  },
  {
   "cell_type": "markdown",
   "metadata": {},
   "source": [
    "##### сколько игр выпускалось в разные годы"
   ]
  },
  {
   "cell_type": "code",
   "execution_count": null,
   "metadata": {},
   "outputs": [],
   "source": [
    "pv_year=df.pivot_table(index='year_of_release',values='sum_sales',aggfunc='count')"
   ]
  },
  {
   "cell_type": "code",
   "execution_count": null,
   "metadata": {},
   "outputs": [],
   "source": [
    "pv_year.reset_index(inplace=True)\n",
    "pv_year.columns=['year_of_release','sum_sales']\n",
    "pv_year.head(10)"
   ]
  },
  {
   "cell_type": "code",
   "execution_count": null,
   "metadata": {},
   "outputs": [],
   "source": [
    "pv_year.sort_values(by='year_of_release',ascending= False,inplace=True)\n",
    "pv_year.head(15)"
   ]
  },
  {
   "cell_type": "markdown",
   "metadata": {},
   "source": [
    "Важны данные последних 15 лет, так как они позволяют отследить динамику взлетов и падений."
   ]
  },
  {
   "cell_type": "markdown",
   "metadata": {},
   "source": [
    "#####  как менялись продажи по платформам <a name=\"3.1-bullet\"></a>"
   ]
  },
  {
   "cell_type": "code",
   "execution_count": null,
   "metadata": {},
   "outputs": [],
   "source": [
    "pv_pl_sale=df.pivot_table(index=['platform'],values='sum_sales',aggfunc='sum')\n",
    "pv_pl_sale.reset_index(inplace=True)"
   ]
  },
  {
   "cell_type": "code",
   "execution_count": null,
   "metadata": {},
   "outputs": [],
   "source": [
    "pv_pl_sale.sort_values(by='sum_sales',ascending= False,inplace=True)"
   ]
  },
  {
   "cell_type": "code",
   "execution_count": null,
   "metadata": {},
   "outputs": [],
   "source": [
    "pv_pl_sale.head(10)"
   ]
  },
  {
   "cell_type": "code",
   "execution_count": null,
   "metadata": {},
   "outputs": [],
   "source": [
    "top_pl=pv_pl_sale.query('sum_sales>200')"
   ]
  },
  {
   "cell_type": "code",
   "execution_count": null,
   "metadata": {},
   "outputs": [],
   "source": [
    "top_pl"
   ]
  },
  {
   "cell_type": "code",
   "execution_count": null,
   "metadata": {},
   "outputs": [],
   "source": [
    "top_pl_sl=df[df.platform.isin(top_pl['platform'])]"
   ]
  },
  {
   "cell_type": "code",
   "execution_count": null,
   "metadata": {},
   "outputs": [],
   "source": [
    "top_pl_sl.head(10)"
   ]
  },
  {
   "cell_type": "code",
   "execution_count": null,
   "metadata": {},
   "outputs": [],
   "source": [
    "dynamics_by_platform = top_pl_sl.pivot_table(index=['year_of_release','platform'], values='sum_sales', aggfunc=sum).fillna(0)"
   ]
  },
  {
   "cell_type": "code",
   "execution_count": null,
   "metadata": {},
   "outputs": [],
   "source": [
    "dynamics_by_platform.head(10)"
   ]
  },
  {
   "cell_type": "code",
   "execution_count": null,
   "metadata": {},
   "outputs": [],
   "source": [
    "dynamics_by_platform.reset_index(inplace=True)"
   ]
  },
  {
   "cell_type": "code",
   "execution_count": null,
   "metadata": {},
   "outputs": [],
   "source": [
    "dynamics_by_platform=dynamics_by_platform.query('year_of_release>=2002')\n",
    "dynamics_by_platform.head(15)"
   ]
  },
  {
   "cell_type": "code",
   "execution_count": null,
   "metadata": {},
   "outputs": [],
   "source": [
    "column=dynamics_by_platform.columns.values.tolist() "
   ]
  },
  {
   "cell_type": "code",
   "execution_count": null,
   "metadata": {
    "scrolled": false
   },
   "outputs": [],
   "source": [
    "import plotly.express as px\n",
    "fig = px.line(dynamics_by_platform, x = 'year_of_release',color='platform', y = 'sum_sales', title = 'dynamics of changes in sales of different platforms')\n",
    "fig.show()"
   ]
  },
  {
   "cell_type": "markdown",
   "metadata": {},
   "source": [
    "Как правило, новые платформы появляются с разницей от года до трех лет. Старые исчезают в течение трех лет. Жизненный цикл платформы составляет от 7 до 10 лет "
   ]
  },
  {
   "cell_type": "markdown",
   "metadata": {},
   "source": [
    "Актуальными можно считать последние 4 года, так можно будет оследить спад продаж платформы, рост спроса."
   ]
  },
  {
   "cell_type": "markdown",
   "metadata": {},
   "source": [
    "##### Какие платформы лидируют по продажам, растут или падают? "
   ]
  },
  {
   "cell_type": "code",
   "execution_count": null,
   "metadata": {},
   "outputs": [],
   "source": [
    "df_modern=df.query('year_of_release>=2012')"
   ]
  },
  {
   "cell_type": "code",
   "execution_count": null,
   "metadata": {},
   "outputs": [],
   "source": [
    "df_modern_earn = df_modern.pivot_table(index=['year_of_release','platform'], values='sum_sales', aggfunc=sum).fillna(0)"
   ]
  },
  {
   "cell_type": "code",
   "execution_count": null,
   "metadata": {},
   "outputs": [],
   "source": [
    "df_modern_earn.reset_index(inplace=True)"
   ]
  },
  {
   "cell_type": "code",
   "execution_count": null,
   "metadata": {},
   "outputs": [],
   "source": [
    "df_modern_earn.sort_values(by='year_of_release',ascending= True,inplace=True)"
   ]
  },
  {
   "cell_type": "code",
   "execution_count": null,
   "metadata": {},
   "outputs": [],
   "source": [
    "fig = px.line(df_modern_earn, x = 'year_of_release',color='platform', y = 'sum_sales', title = 'sales by year')\n",
    "fig.show()"
   ]
  },
  {
   "cell_type": "markdown",
   "metadata": {},
   "source": [
    "На данный момент лидируют по продажам 'XOne', 'PS4','3DS'. Продажи абсолютно всех платформ идут на спад. Наиболее прибыльными на 17 год можно назвать назвать только 'XOne', 'PS4'."
   ]
  },
  {
   "cell_type": "code",
   "execution_count": null,
   "metadata": {
    "scrolled": false
   },
   "outputs": [],
   "source": [
    "fig = px.box(df_modern, x=\"platform\", y=\"sum_sales\",title='average platform sales')\n",
    "fig.show()\n"
   ]
  },
  {
   "cell_type": "markdown",
   "metadata": {},
   "source": [
    "У большинства платформ большой \"хвост\". Это говорит о том, что рынок у платформ очень нестабильный в плане прибыли, доход от платформ серьезно зависит от игр, в которые на них можно играть.\n",
    "\n",
    "Самый лучший результат у \"X360\", у этой платформы высоко расположена медиана и верхние квантили, длиный верхний \"хвост\". Хорошие результаты у \"PS4\", \"PS3\". К наиболее стабильным можно отнести \"XOne\",'Wii', к наиболее рискованным \"3DS\",\"DS\",\"PC\",\"PSV\",\"PSP\"."
   ]
  },
  {
   "cell_type": "markdown",
   "metadata": {},
   "source": [
    "##### корреляция продаж и отзывов для PS4 <a name=\"3.2-bullet\"></a>"
   ]
  },
  {
   "cell_type": "code",
   "execution_count": null,
   "metadata": {},
   "outputs": [],
   "source": [
    "df_PS4=df_modern.query('platform==\"PS4\"')"
   ]
  },
  {
   "cell_type": "code",
   "execution_count": null,
   "metadata": {
    "scrolled": true
   },
   "outputs": [],
   "source": [
    "df_PS4.sort_values(by='year_of_release',ascending= False,inplace=True)"
   ]
  },
  {
   "cell_type": "code",
   "execution_count": null,
   "metadata": {},
   "outputs": [],
   "source": [
    "df_PS4_critic.sort_values(by='critic_score',ascending= True,inplace=True)\n",
    "df_PS4_user.sort_values(by='user_score',ascending= True,inplace=True)"
   ]
  },
  {
   "cell_type": "code",
   "execution_count": null,
   "metadata": {},
   "outputs": [],
   "source": [
    "fig = px.scatter(df_PS4_critic, x=\"critic_score\", y=\"sum_sales\", trendline=\"ols\",title='correlation between critics and sales for PS4')\n",
    "fig.show()"
   ]
  },
  {
   "cell_type": "code",
   "execution_count": null,
   "metadata": {},
   "outputs": [],
   "source": [
    "print(df_PS4_critic['critic_score'].corr(df_PS4_critic['sum_sales']))"
   ]
  },
  {
   "cell_type": "code",
   "execution_count": null,
   "metadata": {},
   "outputs": [],
   "source": [
    "fig = px.scatter(df_PS4_user, x=\"user_score\", y=\"sum_sales\", trendline=\"ols\",title='correlation of user ratings and sales for PS4')\n",
    "fig.show()"
   ]
  },
  {
   "cell_type": "code",
   "execution_count": null,
   "metadata": {},
   "outputs": [],
   "source": [
    "print(df_PS4_user['user_score'].corr((df_PS4_user['sum_sales'])))"
   ]
  },
  {
   "cell_type": "markdown",
   "metadata": {},
   "source": [
    "Для PS4:\n",
    "- Небольшая корреляция есть между оценкой критиков и продажами: чем оценки выше, тем выше продажи. Однако высокая оценка - не гарантия высоких продаж. Но нет случаев, когда игра с низкой оценкой критиков имела высокие продажи.\n",
    "- Нет почти  никакой корреляции между мнением пользователей и продажами. Хорошие продажи могут быть и у игры со средними оценками, и высокие баллы - не гарантия продаж."
   ]
  },
  {
   "cell_type": "markdown",
   "metadata": {},
   "source": [
    "###### корреляция продаж и оценок для всех остальных платформ"
   ]
  },
  {
   "cell_type": "code",
   "execution_count": null,
   "metadata": {},
   "outputs": [],
   "source": [
    "df_modern['user_score']=df_modern['user_score'].fillna(-9999)\n",
    "df_other_user=df_modern.query('(platform !=\"PS4\")&(user_score>0)')\n",
    "df_other_critic=df_modern.query('(platform !=\"PS4\")&(critic_score>0)')"
   ]
  },
  {
   "cell_type": "code",
   "execution_count": null,
   "metadata": {},
   "outputs": [],
   "source": [
    "fig = px.scatter(df_other_critic, x=\"critic_score\", y=\"sum_sales\", trendline=\"ols\",title='correlation of critic ratings and sales for other platforms')\n",
    "fig.show()"
   ]
  },
  {
   "cell_type": "code",
   "execution_count": null,
   "metadata": {},
   "outputs": [],
   "source": [
    "print(df_other_critic['critic_score'].corr((df_other_critic['sum_sales'])))"
   ]
  },
  {
   "cell_type": "code",
   "execution_count": null,
   "metadata": {},
   "outputs": [],
   "source": [
    "fig = px.scatter(df_other_user, x=\"user_score\", y=\"sum_sales\", trendline=\"ols\",title='correlation of user ratings and sales for other platforms')\n",
    "fig.show()"
   ]
  },
  {
   "cell_type": "code",
   "execution_count": null,
   "metadata": {},
   "outputs": [],
   "source": [
    "print(df_other_user['user_score'].corr((df_other_user['sum_sales'])))"
   ]
  },
  {
   "cell_type": "markdown",
   "metadata": {},
   "source": [
    "Выводы во многом повторяют то, что характерно для PS4: \n",
    "- Существует очень низкая корреляция между оценкой критиков и продажами. Высокие оценки не гарантируют высокие продажи, лишь дают на них надежду. Игры с низкими оценками однозначно имеют малые сборы. \n",
    "- Практически нет корреляции между мнением пользователей и продажами. Игры даже с низкими оценками могут надеяться на неплохие продажи, высокие оценки не гарантируют продажи, но дают на них куда большую надежду, чем низкие оценки.\n",
    "\n",
    "В обоих случаях такие результаты с связаны с тем, что оценки никак не зависят от популярности игры и, следовательно, продаж"
   ]
  },
  {
   "cell_type": "code",
   "execution_count": null,
   "metadata": {},
   "outputs": [],
   "source": [
    "genre_sale=df_modern.pivot_table(index=['genre','year_of_release'], values='sum_sales', aggfunc='sum').reset_index()\n",
    "genre_sale.sort_values(by='year_of_release',ascending= False,inplace= True)\n",
    "genre_sale.columns=['genre','year_of_release','sum_sales']"
   ]
  },
  {
   "cell_type": "code",
   "execution_count": null,
   "metadata": {},
   "outputs": [],
   "source": [
    "genre_sale.head(10)"
   ]
  },
  {
   "cell_type": "code",
   "execution_count": null,
   "metadata": {},
   "outputs": [],
   "source": [
    "fig = px.line(genre_sale, x = 'year_of_release', color = 'genre', y = 'sum_sales', title = 'sales of game genres')\n",
    "fig.show()"
   ]
  },
  {
   "cell_type": "markdown",
   "metadata": {},
   "source": [
    "Продажи самых прибыльных жанров идут на спад, что связано с общим падением рынка. \n",
    "- Жанрами с высокими продажами можно назвать: 'Action','Shooter','Role-Playing','Sports'\n",
    "- Жанрами с низкими продажами можно  назвать: 'Strategy','Adventure','Racing','Platform','Misc','Fighting','Simulation','Puzzle'"
   ]
  },
  {
   "cell_type": "markdown",
   "metadata": {},
   "source": [
    "### Вывод"
   ]
  },
  {
   "cell_type": "markdown",
   "metadata": {},
   "source": [
    "- По продажам лидируют XOne и PS4, также игры на этих платформах имеют наибольший медианый доход, при этом у них же длинный хвост больших продаж. \n",
    "- Если у игр высокий рейтинг критиков - это еще не значит, что она обречена на большие продажи. Скорее, высокие оценки дают надежду на успех. \n",
    "- Игры даже со средними пользовательскими оценками могут иметь большие продажи. Высокие оценки также не гарантируют высокие продажи. \n",
    "- Наиболее продаваемыми жанрами являются 'Action','Shooter','Role-Playing','Sports'"
   ]
  },
  {
   "cell_type": "markdown",
   "metadata": {},
   "source": [
    "### Шаг 4. Составление портрета пользователя каждого региона <a name=\"4-bullet\"></a>"
   ]
  },
  {
   "cell_type": "markdown",
   "metadata": {},
   "source": [
    "###### топ-5 платформ в разных регионах"
   ]
  },
  {
   "cell_type": "code",
   "execution_count": null,
   "metadata": {},
   "outputs": [],
   "source": [
    "sales=['jp_sales','na_sales','eu_sales']\n",
    "region_sales=df_modern.pivot_table(index= 'platform',values=sales, aggfunc='sum').reset_index()"
   ]
  },
  {
   "cell_type": "code",
   "execution_count": null,
   "metadata": {},
   "outputs": [],
   "source": [
    "for region in sales:\n",
    "    region_sales.sort_values(by=region,ascending= False,inplace=True)\n",
    "    print(region)\n",
    "    display(region_sales)"
   ]
  },
  {
   "cell_type": "markdown",
   "metadata": {},
   "source": [
    "В Северной Америке и в Европе топ-5 полностью совпадает и включает в себя PS4,PS3,X360,XOne,3DS. Японский рынок ощутимо отличается: 3DS, который в обоих случаях был замыкающим, здесь на 1 месте. Так же на этом рынке, в отличие от других, лидируют PSV и WiiU. На всех рынках есть PS3, PS4. \n",
    "\n",
    "Вероятнее всего, западные платформы прежде всего адаптированы под свои рынки, японские - под свои. Поэтому X360 И XOne менее охотно покупается японцами по сравнению с платформами, которые изначально под японский рынок заточены. По этим же причинам в Америке лучше продается XOne."
   ]
  },
  {
   "cell_type": "markdown",
   "metadata": {},
   "source": [
    "###### топ-5 жанров в разных регионах"
   ]
  },
  {
   "cell_type": "code",
   "execution_count": null,
   "metadata": {},
   "outputs": [],
   "source": [
    "genre_sales_genre=df_modern.pivot_table(index= 'genre',values=sales, aggfunc='sum').reset_index()\n",
    "for region in sales:\n",
    "    genre_sales_genre.sort_values(by=region,ascending= False,inplace=True)\n",
    "    print('Сортировка по возрастанию для ',region)\n",
    "    display(genre_sales_genre)"
   ]
  },
  {
   "cell_type": "markdown",
   "metadata": {},
   "source": [
    "Топ-5 в Европе и Северной Америке почти полностью совпадает. в них есть жанры: 'Acting', 'Shooter','Sports','Role-Playing'. Однако в Европе популяерн жанр 'Racing', в Америке - 'Misc'. В Японии преобладают 'Fighting','Simulation', 'Role-Playing','Acting', 'Misc'.\n",
    "\n",
    "\n",
    "Абсолютно везде популярен 'Role-Playing','Acting'.\n",
    "\n",
    "Европа и Северная Америка гораздо ближе друг к другу в культурном плане, поэтому их предпочтения совпадают вплоть до позиций жанров в рейтинге, а в Японии тот же 'Role-Playing' гораздо популярней, чем в других регионах, и больше \"своих\" любимых жанров."
   ]
  },
  {
   "cell_type": "markdown",
   "metadata": {},
   "source": [
    "###### Влияет ли рейтинг ESRB на продажи в отдельном регионе"
   ]
  },
  {
   "cell_type": "code",
   "execution_count": null,
   "metadata": {},
   "outputs": [],
   "source": [
    "rating_sales=df_modern.pivot_table(index= 'rating',values=sales, aggfunc='sum').reset_index()"
   ]
  },
  {
   "cell_type": "code",
   "execution_count": null,
   "metadata": {},
   "outputs": [],
   "source": [
    "for rating in sales:\n",
    "    rating_sales.sort_values(by=rating,ascending= False,inplace=True)\n",
    "    print('Сортировка по возрастанию для ',rating)\n",
    "    display(rating_sales)"
   ]
  },
  {
   "cell_type": "markdown",
   "metadata": {},
   "source": [
    "Рейтинг влияет на продажи в отдельном регионе. Рейтинг 'М' любят гораздо сильнее в Европе и Северной Америке, чем в Японии."
   ]
  },
  {
   "cell_type": "markdown",
   "metadata": {},
   "source": [
    "##### Выводы"
   ]
  },
  {
   "cell_type": "markdown",
   "metadata": {},
   "source": [
    "- Абсолютно везде распространены такие приставки как PS3, PS4.\n",
    "- Самыми распространенными жанрами можно назвать Acting, Role-Playing\n",
    "- Cамым распространенным  является рейтинг - 'E', потому что он \"для всех\".\n",
    "\n",
    "- В своих предпочтениях Европа и Северная Амерка гораздо ближе друг к другу, чем Япония. В этих регионах популярны 'XOne','X360', в то время как в Японии  - PSV и WiiU. Жанры 'Sports', 'Shooter' любят больше в Северной Америке и Европе, в Японии большим спросом пользуются 'Fighting', 'Simulation'. Рейтинг игр 'M' гораздо популярней в Северной Америке и Европе, чем в Японии."
   ]
  },
  {
   "cell_type": "markdown",
   "metadata": {},
   "source": [
    "### Шаг 5. Проверьте гипотезы <a name=\"5-bullet\"></a>"
   ]
  },
  {
   "cell_type": "markdown",
   "metadata": {},
   "source": [
    "######  гипотеза: средние пользовательские рейтинги платформ Xbox One и PC одинаковые <a name=\"5.1-bullet\"></a>"
   ]
  },
  {
   "cell_type": "markdown",
   "metadata": {},
   "source": [
    "- Нулевая гипотеза: средние пользовательские рейтинги равны.\n",
    "- Альтернативная гипотеза: средние пользовательские рейтинги не равны."
   ]
  },
  {
   "cell_type": "code",
   "execution_count": null,
   "metadata": {},
   "outputs": [],
   "source": [
    "df_modern['user_score']=df_modern['user_score'].fillna(-1)\n",
    "df_user=df_modern.query('user_score>=0')"
   ]
  },
  {
   "cell_type": "code",
   "execution_count": null,
   "metadata": {},
   "outputs": [],
   "source": [
    "sample_XOne=df_user.loc[df_modern['platform']=='XOne','user_score']\n",
    "sample_PC=df_user.loc[df_modern['platform']=='PC','user_score']"
   ]
  },
  {
   "cell_type": "code",
   "execution_count": null,
   "metadata": {},
   "outputs": [],
   "source": [
    "sample_XOne"
   ]
  },
  {
   "cell_type": "code",
   "execution_count": null,
   "metadata": {},
   "outputs": [],
   "source": [
    "from scipy.stats import levene\n",
    "alpha = .05\n",
    "p = levene(sample_XOne, sample_PC)\n",
    "print('p-значение:', \"{:.15f}\".format(p.pvalue))\n",
    "if (p.pvalue > alpha):\n",
    "    print(\"Различие дисперсии не значимо\")\n",
    "else:\n",
    "    print(\"Различие дисперсии значимо\") "
   ]
  },
  {
   "cell_type": "markdown",
   "metadata": {},
   "source": [
    "Малое p-значение говорит о том, что выборки имеют разуню дисперсию, так что параметр `equal_var` имеет значение False"
   ]
  },
  {
   "cell_type": "code",
   "execution_count": null,
   "metadata": {},
   "outputs": [],
   "source": [
    "from scipy import stats as st\n",
    "alpha = .05\n",
    "results = st.ttest_ind(\n",
    "    sample_XOne, \n",
    "    sample_PC,\n",
    "    equal_var = False)\n",
    "print('p-значение:', \"{:.15f}\".format(results.pvalue))\n",
    "\n",
    "if (results.pvalue < alpha):\n",
    "    print(\"Отвергаем нулевую гипотезу\")\n",
    "else:\n",
    "    print(\"Не получилось отвергнуть нулевую гипотезу\") "
   ]
  },
  {
   "cell_type": "markdown",
   "metadata": {},
   "source": [
    "Нулевая гипотеза о равнестве рейтинга не отвергается. Существует очень высокая вероятность в 55%, что разница в данных случайна. Таким образом, можно предположить, что средние пользовательские рейтинги равны, а заявленная гипотеза верна. "
   ]
  },
  {
   "cell_type": "markdown",
   "metadata": {},
   "source": [
    "###### гипотеза: средние пользовательские рейтинги жанров Action (англ. «действие», экшен-игры) и Sports (англ. «спортивные соревнования») разные <a name=\"5.2-bullet\"></a>"
   ]
  },
  {
   "cell_type": "markdown",
   "metadata": {},
   "source": [
    "- Нулевая гипотеза: средние пользовательские рейтинги равны.\n",
    "- Альтернативная гипотеза: средние пользовательские рейтинги не равны."
   ]
  },
  {
   "cell_type": "code",
   "execution_count": null,
   "metadata": {},
   "outputs": [],
   "source": [
    "sample_Action=df_user.loc[df_modern['genre']=='Action','user_score']\n",
    "sample_Sport=df_user.loc[df_modern['genre']=='Sports','user_score']"
   ]
  },
  {
   "cell_type": "code",
   "execution_count": null,
   "metadata": {},
   "outputs": [],
   "source": [
    "alpha = .05\n",
    "p = levene(sample_Action, sample_Sport)\n",
    "print('p-значение:', \"{:.15f}\".format(p.pvalue))\n",
    "if (p.pvalue > alpha):\n",
    "    print(\"Различие дисперсии не значимо\")\n",
    "else:\n",
    "    print(\"Различие дисперсии значимо\") "
   ]
  },
  {
   "cell_type": "markdown",
   "metadata": {},
   "source": [
    "Малое p-значение говорит о том, что выборки имеют разную дисперсию, так что параметр `equal_var` имеет значение False"
   ]
  },
  {
   "cell_type": "code",
   "execution_count": null,
   "metadata": {},
   "outputs": [],
   "source": [
    "alpha = .05\n",
    "results = st.ttest_ind(\n",
    "    sample_Action, \n",
    "    sample_Sport,\n",
    "    equal_var = False)\n",
    "print('p-значение:', \"{:.15f}\".format(results.pvalue))\n",
    "\n",
    "if (results.pvalue < alpha):\n",
    "    print(\"Отвергаем нулевую гипотезу\")\n",
    "else:\n",
    "    print(\"Не получилось отвергнуть нулевую гипотезу\")"
   ]
  },
  {
   "cell_type": "markdown",
   "metadata": {},
   "source": [
    "Нулевая гипотеза о равнестве рейтинга отвергается. Существует высокая вероятность, что разница в данных не случайна. Таким образом можно предположить, что заявленная гипотеза верна. "
   ]
  },
  {
   "cell_type": "markdown",
   "metadata": {},
   "source": [
    "В обоих случаях нулевая гипотеза была составлена так, чтобы в ней обязательно было равенство. Альтернативная гипотеза строилась исходя из нулевой. В обоих случаях она является двухсторонней. Также в обоих случаях мы сравниваем среднее двух генеральных совокупностей, так как данные не зависимы, поэтому применяется метод 'st.ttest_ind'. Пороговое значение взято стандартное."
   ]
  },
  {
   "cell_type": "markdown",
   "metadata": {},
   "source": [
    "## Вывод"
   ]
  },
  {
   "cell_type": "markdown",
   "metadata": {},
   "source": [
    "-  Средние пользовательские оценки на платформах XOne и PC скорее всего  не различаются\n",
    "- В средних пользовательских рейтингах жанров 'Action','Sports', вероятно, есть разница."
   ]
  },
  {
   "cell_type": "markdown",
   "metadata": {},
   "source": [
    "###  Шаг 6. Общий вывод <a name=\"6-bullet\"></a>"
   ]
  },
  {
   "cell_type": "markdown",
   "metadata": {},
   "source": [
    "- Северная Америка и Европа ближе друг к другу в предпочтениях платформ и жанров игр, чем к Японии.\n",
    "- Несмотря на различия, можно сформировать макисмально универсальную игру: она должна быть сделана для PS4, в жанре 'Acting' или 'Role-Playing' c рейтингом 'E'. \n",
    "- Из-за общего спада продаж рисковано ориентироваться на характреные только японскому рынку жанры и платформы \n",
    "- Для европейского и американского рынка успешная игра может быть с рейтингом 'M', жанров 'Shooter','Sports'. В Европе может быть еще успешен 'Racing', в Америке - 'Misc'.\n",
    "- На европейском и американком рынке разумно рекламировать игры на платформе 'XOne'\n",
    "- Следует обращать большее внимание на игры с высокими оценками критиков, оценки пользователей хуже коррелируют с продажами\n",
    "- Успех игры зависит от платформ, на которых в нее можно играть, от их популярности. "
   ]
  }
 ],
 "metadata": {
  "kernelspec": {
   "display_name": "Python 3",
   "language": "python",
   "name": "python3"
  },
  "language_info": {
   "codemirror_mode": {
    "name": "ipython",
    "version": 3
   },
   "file_extension": ".py",
   "mimetype": "text/x-python",
   "name": "python",
   "nbconvert_exporter": "python",
   "pygments_lexer": "ipython3",
   "version": "3.8.5"
  },
  "toc": {
   "base_numbering": 1,
   "nav_menu": {},
   "number_sections": true,
   "sideBar": true,
   "skip_h1_title": false,
   "title_cell": "Table of Contents",
   "title_sidebar": "Contents",
   "toc_cell": false,
   "toc_position": {},
   "toc_section_display": true,
   "toc_window_display": false
  }
 },
 "nbformat": 4,
 "nbformat_minor": 2
}
