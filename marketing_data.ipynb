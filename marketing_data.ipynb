{
 "cells": [
  {
   "cell_type": "markdown",
   "metadata": {},
   "source": [
    "## 1.Загрузка данных и подготовка к анализу"
   ]
  },
  {
   "cell_type": "markdown",
   "metadata": {},
   "source": [
    "##### изучение данных <a name=\"1.1-bullet\"></a>"
   ]
  },
  {
   "cell_type": "code",
   "execution_count": null,
   "metadata": {},
   "outputs": [],
   "source": [
    "import pandas as pd\n",
    "import numpy as np\n",
    "import plotly.express as px\n",
    "import seaborn as sns\n",
    "from matplotlib import pyplot as plt"
   ]
  },
  {
   "cell_type": "code",
   "execution_count": null,
   "metadata": {},
   "outputs": [],
   "source": [
    "df_v= pd.read_csv('/datasets/visits_log.csv')\n",
    "df_v.describe()"
   ]
  },
  {
   "cell_type": "code",
   "execution_count": null,
   "metadata": {},
   "outputs": [],
   "source": [
    "df_v.info()"
   ]
  },
  {
   "cell_type": "code",
   "execution_count": null,
   "metadata": {},
   "outputs": [],
   "source": [
    "df_v.head(10)"
   ]
  },
  {
   "cell_type": "markdown",
   "metadata": {},
   "source": [
    "Необходимо преобразовать столбцы с датами в соответствующий тип"
   ]
  },
  {
   "cell_type": "code",
   "execution_count": null,
   "metadata": {},
   "outputs": [],
   "source": [
    "df_v['End Ts'] = pd.to_datetime(df_v['End Ts'])\n",
    "df_v['Start Ts'] = pd.to_datetime(df_v['Start Ts'])"
   ]
  },
  {
   "cell_type": "code",
   "execution_count": null,
   "metadata": {},
   "outputs": [],
   "source": [
    "df_v.info()"
   ]
  },
  {
   "cell_type": "code",
   "execution_count": null,
   "metadata": {},
   "outputs": [],
   "source": [
    "df_o= pd.read_csv('/datasets/orders_log.csv')"
   ]
  },
  {
   "cell_type": "code",
   "execution_count": null,
   "metadata": {},
   "outputs": [],
   "source": [
    "df_o.info()"
   ]
  },
  {
   "cell_type": "code",
   "execution_count": null,
   "metadata": {},
   "outputs": [],
   "source": [
    "df_o.head(10)"
   ]
  },
  {
   "cell_type": "markdown",
   "metadata": {},
   "source": [
    "Необходимо преобразовать столбцы с датами в соответствующий тип"
   ]
  },
  {
   "cell_type": "code",
   "execution_count": null,
   "metadata": {},
   "outputs": [],
   "source": [
    "df_o['Buy Ts']=pd.to_datetime(df_o['Buy Ts'])"
   ]
  },
  {
   "cell_type": "code",
   "execution_count": null,
   "metadata": {},
   "outputs": [],
   "source": [
    "df_o.info()"
   ]
  },
  {
   "cell_type": "code",
   "execution_count": null,
   "metadata": {},
   "outputs": [],
   "source": [
    "df_с= pd.read_csv('/datasets/costs.csv')"
   ]
  },
  {
   "cell_type": "code",
   "execution_count": null,
   "metadata": {},
   "outputs": [],
   "source": [
    "df_с.info()"
   ]
  },
  {
   "cell_type": "code",
   "execution_count": null,
   "metadata": {},
   "outputs": [],
   "source": [
    "df_с.head(10)"
   ]
  },
  {
   "cell_type": "markdown",
   "metadata": {},
   "source": [
    "Необходимо преобразовать столбцы с датами в соответствующий тип"
   ]
  },
  {
   "cell_type": "code",
   "execution_count": null,
   "metadata": {},
   "outputs": [],
   "source": [
    "df_с['dt']=pd.to_datetime(df_с['dt'])"
   ]
  },
  {
   "cell_type": "code",
   "execution_count": null,
   "metadata": {},
   "outputs": [],
   "source": [
    "df_с.info()"
   ]
  },
  {
   "cell_type": "markdown",
   "metadata": {},
   "source": [
    "###### поиск дубликатов <a name=\"1.2-bullet\"></a>"
   ]
  },
  {
   "cell_type": "code",
   "execution_count": null,
   "metadata": {},
   "outputs": [],
   "source": [
    "df_с.duplicated().sum()"
   ]
  },
  {
   "cell_type": "code",
   "execution_count": null,
   "metadata": {},
   "outputs": [],
   "source": [
    "df_o.duplicated().sum()"
   ]
  },
  {
   "cell_type": "code",
   "execution_count": null,
   "metadata": {},
   "outputs": [],
   "source": [
    "df_o.duplicated().sum()"
   ]
  },
  {
   "cell_type": "markdown",
   "metadata": {},
   "source": [
    "###### сравнение временных промежутков  <a name=\"1.3-bullet\"></a>"
   ]
  },
  {
   "cell_type": "code",
   "execution_count": null,
   "metadata": {},
   "outputs": [],
   "source": [
    "df_o['Buy Ts'].min()"
   ]
  },
  {
   "cell_type": "code",
   "execution_count": null,
   "metadata": {},
   "outputs": [],
   "source": [
    "df_o['Buy Ts'].max()"
   ]
  },
  {
   "cell_type": "code",
   "execution_count": null,
   "metadata": {},
   "outputs": [],
   "source": [
    "df_с['dt'].min()"
   ]
  },
  {
   "cell_type": "code",
   "execution_count": null,
   "metadata": {},
   "outputs": [],
   "source": [
    "df_с['dt'].max()"
   ]
  },
  {
   "cell_type": "code",
   "execution_count": null,
   "metadata": {},
   "outputs": [],
   "source": [
    "df_v['End Ts'].min()"
   ]
  },
  {
   "cell_type": "code",
   "execution_count": null,
   "metadata": {},
   "outputs": [],
   "source": [
    "df_v['Start Ts'].min()"
   ]
  },
  {
   "cell_type": "code",
   "execution_count": null,
   "metadata": {},
   "outputs": [],
   "source": [
    "df_v['End Ts'].max()"
   ]
  },
  {
   "cell_type": "code",
   "execution_count": null,
   "metadata": {},
   "outputs": [],
   "source": [
    "df_v['Start Ts'].max()"
   ]
  },
  {
   "cell_type": "markdown",
   "metadata": {},
   "source": [
    "#### Вывод <a name=\"1.4-bullet\"></a>"
   ]
  },
  {
   "cell_type": "markdown",
   "metadata": {},
   "source": [
    "Дубликатов нет, временные промежутки совпадают.\n",
    "Данные пригодны для анализа. "
   ]
  },
  {
   "cell_type": "code",
   "execution_count": null,
   "metadata": {},
   "outputs": [],
   "source": [
    "df_v.info()"
   ]
  },
  {
   "cell_type": "code",
   "execution_count": null,
   "metadata": {},
   "outputs": [],
   "source": [
    "df_v[df_v['Start Ts']>df_v['End Ts']]"
   ]
  },
  {
   "cell_type": "code",
   "execution_count": null,
   "metadata": {},
   "outputs": [],
   "source": [
    "df_v=df_v[df_v['Start Ts']<df_v['End Ts']]"
   ]
  },
  {
   "cell_type": "code",
   "execution_count": null,
   "metadata": {},
   "outputs": [],
   "source": [
    "df_o.info()"
   ]
  },
  {
   "cell_type": "code",
   "execution_count": null,
   "metadata": {},
   "outputs": [],
   "source": [
    "df_o[df_o['Revenue']<=0]"
   ]
  },
  {
   "cell_type": "code",
   "execution_count": null,
   "metadata": {},
   "outputs": [],
   "source": [
    "df_o=df_o[df_o['Revenue']>0]"
   ]
  },
  {
   "cell_type": "markdown",
   "metadata": {},
   "source": [
    "## 2.Постройка отчетов и расчет метрик: продукты "
   ]
  },
  {
   "cell_type": "markdown",
   "metadata": {},
   "source": [
    "###### Сколько людей пользуются в день, неделю, месяц? <a name=\"2.1-bullet\"></a>"
   ]
  },
  {
   "cell_type": "code",
   "execution_count": null,
   "metadata": {},
   "outputs": [],
   "source": [
    "#группировка по дню и поиск уникальных пользователей\n",
    "df_o['day']=df_o['Buy Ts'].dt.day\n",
    "day_u=df_o.groupby('day').agg({'Uid': 'nunique'})\n",
    "day_u.mean()"
   ]
  },
  {
   "cell_type": "code",
   "execution_count": null,
   "metadata": {},
   "outputs": [],
   "source": [
    "df_v['day'] = df_v['Start Ts'].astype('datetime64[D]')\n",
    "day_u=df_v.groupby('day').agg({'Uid': 'nunique'})"
   ]
  },
  {
   "cell_type": "code",
   "execution_count": null,
   "metadata": {},
   "outputs": [],
   "source": [
    "df_v['day']"
   ]
  },
  {
   "cell_type": "code",
   "execution_count": null,
   "metadata": {},
   "outputs": [],
   "source": [
    "day_u.reset_index(inplace=True)"
   ]
  },
  {
   "cell_type": "code",
   "execution_count": null,
   "metadata": {},
   "outputs": [],
   "source": [
    "day_u.columns=['day','Uid']"
   ]
  },
  {
   "cell_type": "code",
   "execution_count": null,
   "metadata": {},
   "outputs": [],
   "source": [
    "fig = px.line(day_u, x = 'day', y = 'Uid', title = 'количество пользователей в день')\n",
    "fig.show()"
   ]
  },
  {
   "cell_type": "code",
   "execution_count": null,
   "metadata": {},
   "outputs": [],
   "source": [
    "day_u_d=df_v.groupby(['day','Device']).agg({'Uid': 'nunique'}).reset_index()\n",
    "fig = px.line(day_u_d, x = 'day',color='Device', y = 'Uid', title = 'количество пользователей в день по устройствам')\n",
    "fig.show()"
   ]
  },
  {
   "cell_type": "markdown",
   "metadata": {},
   "source": [
    "Графики с количеством пользователей в день в зависимости от устройства  совпадают по динамике с общим графиком посещений в день. Можно сказать, что количество посещений в день не зависит от устройства. "
   ]
  },
  {
   "cell_type": "code",
   "execution_count": null,
   "metadata": {},
   "outputs": [],
   "source": [
    "#группировка по неделе и поиск уникальных пользователей \n",
    "df_o['week'] = df_o['Buy Ts'].dt.week\n",
    "week_u = df_o.groupby('week').agg({'Uid': 'nunique'})"
   ]
  },
  {
   "cell_type": "code",
   "execution_count": null,
   "metadata": {},
   "outputs": [],
   "source": [
    "week_u.mean()"
   ]
  },
  {
   "cell_type": "code",
   "execution_count": null,
   "metadata": {},
   "outputs": [],
   "source": [
    "#определение количества уникальных пользователей в неделю\n",
    "df_v['Year-Week']= df_v['Start Ts'].astype('datetime64[W]')\n",
    "week_u=df_v.groupby('Year-Week').agg({'Uid': 'nunique'})"
   ]
  },
  {
   "cell_type": "code",
   "execution_count": null,
   "metadata": {},
   "outputs": [],
   "source": [
    "week_u"
   ]
  },
  {
   "cell_type": "code",
   "execution_count": null,
   "metadata": {},
   "outputs": [],
   "source": [
    "week_u=week_u.reset_index()"
   ]
  },
  {
   "cell_type": "code",
   "execution_count": null,
   "metadata": {},
   "outputs": [],
   "source": [
    "fig = px.line(week_u, x=\"Year-Week\", y=\"Uid\",title=\"количество пользователей в неделю\")\n",
    "fig.show()"
   ]
  },
  {
   "cell_type": "code",
   "execution_count": null,
   "metadata": {},
   "outputs": [],
   "source": [
    "week_u=df_v.groupby('Year-Week').agg({'Uid': 'nunique'})"
   ]
  },
  {
   "cell_type": "code",
   "execution_count": null,
   "metadata": {},
   "outputs": [],
   "source": [
    "week_u_d=df_v.groupby(['Year-Week','Device']).agg({'Uid': 'nunique'})\n",
    "week_u_d=week_u_d.reset_index()"
   ]
  },
  {
   "cell_type": "code",
   "execution_count": null,
   "metadata": {},
   "outputs": [],
   "source": [
    "fig = px.line(week_u_d, x=\"Year-Week\", y=\"Uid\",color='Device',title=\"количество пользователей в неделю в зависимости от устройства\")\n",
    "fig.show()"
   ]
  },
  {
   "cell_type": "markdown",
   "metadata": {},
   "source": [
    "Динамика количества пользователей с компьютера совпадает со средней динамикой, пользователи с телефона имеют более стабильную динамику посещений с октября по март. "
   ]
  },
  {
   "cell_type": "code",
   "execution_count": null,
   "metadata": {},
   "outputs": [],
   "source": [
    "#группировка по месяцу и поиск уникальных пользователей\n",
    "df_o['month']=df_o['Buy Ts'].dt.month\n",
    "month_u = df_o.groupby('month').agg({'Uid': 'nunique'})"
   ]
  },
  {
   "cell_type": "code",
   "execution_count": null,
   "metadata": {},
   "outputs": [],
   "source": [
    "month_u.mean()"
   ]
  },
  {
   "cell_type": "code",
   "execution_count": null,
   "metadata": {},
   "outputs": [],
   "source": [
    "df_v['month'] =df_v['Start Ts'].astype('datetime64[M]')"
   ]
  },
  {
   "cell_type": "code",
   "execution_count": null,
   "metadata": {},
   "outputs": [],
   "source": [
    "month_u = df_v.groupby('month').agg({'Uid': 'nunique'}).reset_index()"
   ]
  },
  {
   "cell_type": "code",
   "execution_count": null,
   "metadata": {},
   "outputs": [],
   "source": [
    "fig = px.line(month_u, x=\"month\", y=\"Uid\",title=\"количество пользователей в месяц\")\n",
    "fig.show()"
   ]
  },
  {
   "cell_type": "code",
   "execution_count": null,
   "metadata": {},
   "outputs": [],
   "source": [
    "month_u_d = df_v.groupby(['month','Device']).agg({'Uid': 'nunique'}).reset_index()\n",
    "fig = px.line(month_u_d, x=\"month\",color='Device', y=\"Uid\",title=\"количество пользователей в месяц в зависимости от устройства\")\n",
    "fig.show()"
   ]
  },
  {
   "cell_type": "markdown",
   "metadata": {},
   "source": [
    "Динамика количества пользователей с компьютера совпадает со средней динамикой, пользователи с телефона имеют более стабильную динамику посещений с октября по март ."
   ]
  },
  {
   "cell_type": "markdown",
   "metadata": {},
   "source": [
    "###### Сколько сессий в день? <a name=\"2.2-bullet\"></a>"
   ]
  },
  {
   "cell_type": "code",
   "execution_count": null,
   "metadata": {},
   "outputs": [],
   "source": [
    "df_v.info()"
   ]
  },
  {
   "cell_type": "code",
   "execution_count": null,
   "metadata": {},
   "outputs": [],
   "source": [
    "df_v"
   ]
  },
  {
   "cell_type": "code",
   "execution_count": null,
   "metadata": {},
   "outputs": [],
   "source": [
    "#расчет общего количества сессий на сайте\n",
    "df_v['day'] = df_v['End Ts'].astype('datetime64[D]')\n",
    "events_count = df_v.groupby('day').agg({'Uid': 'count'}).reset_index()\n",
    "events_count.mean()"
   ]
  },
  {
   "cell_type": "code",
   "execution_count": null,
   "metadata": {},
   "outputs": [],
   "source": [
    "#расчет количества сессий у каждого пользователя\n",
    "events_count_user = df_v.groupby('Uid')[['day']].count()\n",
    "events_count_user.mean()"
   ]
  },
  {
   "cell_type": "code",
   "execution_count": null,
   "metadata": {},
   "outputs": [],
   "source": [
    "events_count"
   ]
  },
  {
   "cell_type": "code",
   "execution_count": null,
   "metadata": {},
   "outputs": [],
   "source": [
    "fig = px.line(events_count, x=\"day\", y=\"Uid\",title=\"количество сессий в день в динамике\")\n",
    "fig.show()"
   ]
  },
  {
   "cell_type": "code",
   "execution_count": null,
   "metadata": {},
   "outputs": [],
   "source": [
    "#расчет количества сессий в зависимости от устройства\n",
    "events_count_d = df_v.groupby(['day','Device']).agg({'Uid': 'count'}).reset_index()\n",
    "fig = px.line(events_count_d, x=\"day\",color='Device', y=\"Uid\",title=\"количество сессий в день в динамике в зависимости от устройства\")\n",
    "fig.show()"
   ]
  },
  {
   "cell_type": "markdown",
   "metadata": {},
   "source": [
    "Количество пользователей с телефона имеет более ровную динамику и меньше совпадает с общей динамикой для обоих устройств. "
   ]
  },
  {
   "cell_type": "code",
   "execution_count": null,
   "metadata": {},
   "outputs": [],
   "source": [
    "events_count_d"
   ]
  },
  {
   "cell_type": "markdown",
   "metadata": {},
   "source": [
    "###### Сколько длится одна сессия? <a name=\"2.3-bullet\"></a>"
   ]
  },
  {
   "cell_type": "code",
   "execution_count": null,
   "metadata": {},
   "outputs": [],
   "source": [
    "df_v['duration']=df_v['End Ts']-df_v['Start Ts']\n",
    "df_v['duration'].mean()"
   ]
  },
  {
   "cell_type": "code",
   "execution_count": null,
   "metadata": {},
   "outputs": [],
   "source": [
    "df_v['duration'].median()"
   ]
  },
  {
   "cell_type": "code",
   "execution_count": null,
   "metadata": {},
   "outputs": [],
   "source": [
    "df_v['duration'].mode()"
   ]
  },
  {
   "cell_type": "code",
   "execution_count": null,
   "metadata": {},
   "outputs": [],
   "source": [
    "fig = px.histogram(df_v, x = 'duration',\n",
    "                  title = 'Распределение продолжительности одной сессии')\n",
    "fig.show()"
   ]
  },
  {
   "cell_type": "code",
   "execution_count": null,
   "metadata": {},
   "outputs": [],
   "source": [
    "fig = px.histogram(df_v, x = 'duration', color='Device',\n",
    "                  title = 'Распределение продолжительности одной сессии')\n",
    "fig.show()"
   ]
  },
  {
   "cell_type": "markdown",
   "metadata": {},
   "source": [
    "- график представляет из себя распределение Пуассона\n",
    "- Как правило одна сессия длится около трех минут\n",
    "- Люди за компьютером сидят дольше, чем с телефона"
   ]
  },
  {
   "cell_type": "markdown",
   "metadata": {},
   "source": [
    "##### Как часто люди возвращаются? <a name=\"2.4-bullet\"></a>"
   ]
  },
  {
   "cell_type": "code",
   "execution_count": null,
   "metadata": {},
   "outputs": [],
   "source": [
    "df_v.info()"
   ]
  },
  {
   "cell_type": "code",
   "execution_count": null,
   "metadata": {},
   "outputs": [],
   "source": [
    "#формирование когорт\n",
    "first_activity_date = df_v.groupby(['Uid'])['Start Ts'].min()\n",
    "first_activity_date.name = 'first_visit_date'\n",
    "user_activity = df_v.join(first_activity_date,on='Uid')\n",
    "user_activity['first_visit_date'] = user_activity['first_visit_date'].astype('datetime64[M]')"
   ]
  },
  {
   "cell_type": "code",
   "execution_count": null,
   "metadata": {},
   "outputs": [],
   "source": [
    "def int_r(num):\n",
    "    num = int(num + (0.5 if num > 0 else -0.5))\n",
    "    return num"
   ]
  },
  {
   "cell_type": "code",
   "execution_count": null,
   "metadata": {},
   "outputs": [],
   "source": [
    "user_activity['Start_ts_month'] = user_activity['Start Ts'].astype('datetime64[M]')\n",
    "user_activity['cohort_lifetime'] = user_activity['Start_ts_month'] - user_activity['first_visit_date']\n",
    "user_activity['cohort_lifetime'] = user_activity['cohort_lifetime'] / np.timedelta64(1,'M')\n",
    "user_activity['cohort_lifetime'] = user_activity['cohort_lifetime'].apply(int_r)\n",
    "user_activity['cohort_lifetime'] = user_activity['cohort_lifetime'].astype('int') \n"
   ]
  },
  {
   "cell_type": "code",
   "execution_count": null,
   "metadata": {},
   "outputs": [],
   "source": [
    "cohorts = user_activity.groupby(['first_visit_date','cohort_lifetime']).agg({'Uid':'nunique'}).reset_index()\n",
    "initial_users_count = cohorts[cohorts['cohort_lifetime'] == 0][['first_visit_date','Uid']]\n",
    "initial_users_count = initial_users_count.rename(columns={'Uid':'cohort_users'})\n",
    "cohorts = cohorts.merge(initial_users_count,on='first_visit_date')\n",
    "cohorts['retention'] = cohorts['Uid']/cohorts['cohort_users']\n",
    "retention_pivot = cohorts.pivot_table(index='first_visit_date',columns='cohort_lifetime',values='retention',aggfunc='sum')"
   ]
  },
  {
   "cell_type": "code",
   "execution_count": null,
   "metadata": {},
   "outputs": [],
   "source": [
    "sns.set(style='white')\n",
    "plt.figure(figsize=(22, 20))\n",
    "plt.title('Cohorts: User Retention')\n",
    "sns.heatmap(retention_pivot, annot=True, fmt='.1%', linewidths=1, linecolor='gray',vmin=0,vmax=0.15); \n"
   ]
  },
  {
   "cell_type": "markdown",
   "metadata": {},
   "source": [
    "Качество когорт с течением времени улучшается, все больше посетителей возвращается на сайт. Это может быть связано с улучшением качества источников трафика, улучшением качества самого сервиса."
   ]
  },
  {
   "cell_type": "code",
   "execution_count": null,
   "metadata": {},
   "outputs": [],
   "source": [
    "user_activity.info()"
   ]
  },
  {
   "cell_type": "code",
   "execution_count": null,
   "metadata": {},
   "outputs": [],
   "source": [
    "sour_pv_d=user_activity.pivot_table(index=['Uid'],columns='Device',values='Start Ts',aggfunc='min').reset_index()\n",
    "sour_pv_d"
   ]
  },
  {
   "cell_type": "code",
   "execution_count": null,
   "metadata": {},
   "outputs": [],
   "source": [
    "dev_pv=df_v.pivot_table(index=['Uid','Device'],values='Start Ts',aggfunc='min').reset_index()"
   ]
  },
  {
   "cell_type": "code",
   "execution_count": null,
   "metadata": {},
   "outputs": [],
   "source": [
    "dev_pv=dev_pv.drop(['Start Ts'], axis=1)\n",
    "dev_pv.columns=['Uid','main_device']\n",
    "dev_pv"
   ]
  },
  {
   "cell_type": "code",
   "execution_count": null,
   "metadata": {},
   "outputs": [],
   "source": [
    "sour_pv_d.loc[~(pd.isnull(sour_pv_d['desktop'])),'main_device']='desktop'\n",
    "sour_pv_d.loc[~(pd.isnull(sour_pv_d['touch'])),'main_device']='touch'"
   ]
  },
  {
   "cell_type": "code",
   "execution_count": null,
   "metadata": {},
   "outputs": [],
   "source": [
    "sour_pv_d=sour_pv_d.drop(['desktop', 'touch'], axis=1)"
   ]
  },
  {
   "cell_type": "code",
   "execution_count": null,
   "metadata": {},
   "outputs": [],
   "source": [
    "sour_pv_d.info()"
   ]
  },
  {
   "cell_type": "code",
   "execution_count": null,
   "metadata": {},
   "outputs": [],
   "source": [
    "user_activity.info()"
   ]
  },
  {
   "cell_type": "code",
   "execution_count": null,
   "metadata": {},
   "outputs": [],
   "source": [
    "user_activity=user_activity.merge(dev_pv,on='Uid',how='left')"
   ]
  },
  {
   "cell_type": "code",
   "execution_count": null,
   "metadata": {},
   "outputs": [],
   "source": [
    "cohorts.sample()"
   ]
  },
  {
   "cell_type": "code",
   "execution_count": null,
   "metadata": {},
   "outputs": [],
   "source": [
    "user_activity.info()"
   ]
  },
  {
   "cell_type": "code",
   "execution_count": null,
   "metadata": {},
   "outputs": [],
   "source": [
    "initial_users_count"
   ]
  },
  {
   "cell_type": "code",
   "execution_count": null,
   "metadata": {},
   "outputs": [],
   "source": [
    "cohorts_d = user_activity.groupby(['first_visit_date','cohort_lifetime','main_device']).agg({'Uid':'nunique'}).reset_index()"
   ]
  },
  {
   "cell_type": "code",
   "execution_count": null,
   "metadata": {},
   "outputs": [],
   "source": [
    "cohorts_d_d=cohorts_d[cohorts_d['main_device']=='desktop']"
   ]
  },
  {
   "cell_type": "code",
   "execution_count": null,
   "metadata": {},
   "outputs": [],
   "source": [
    "initial_users_count = cohorts_d_d[(cohorts_d_d['cohort_lifetime'] == 0)][['first_visit_date','Uid',]]\n",
    "initial_users_count = initial_users_count.rename(columns={'Uid':'cohort_users'})\n",
    "cohorts_d_d = cohorts_d_d.merge(initial_users_count,on='first_visit_date')\n",
    "cohorts_d_d['retention'] = cohorts_d_d['Uid']/cohorts_d_d['cohort_users']\n",
    "#retention_pivot = cohorts_d.pivot_table(index=['first_visit_date','main_device'],columns='cohort_lifetime',values='retention',aggfunc='sum')\n",
    "retention_pivot_d = (cohorts_d_d.\n",
    "                     pivot_table(index='first_visit_date',columns='cohort_lifetime',values='retention',aggfunc='sum'))"
   ]
  },
  {
   "cell_type": "code",
   "execution_count": null,
   "metadata": {},
   "outputs": [],
   "source": [
    "initial_users_count"
   ]
  },
  {
   "cell_type": "code",
   "execution_count": null,
   "metadata": {},
   "outputs": [],
   "source": [
    "cohorts_d"
   ]
  },
  {
   "cell_type": "code",
   "execution_count": null,
   "metadata": {},
   "outputs": [],
   "source": [
    "cohorts_d.info()"
   ]
  },
  {
   "cell_type": "code",
   "execution_count": null,
   "metadata": {},
   "outputs": [],
   "source": [
    "sns.set(style='white')\n",
    "plt.figure(figsize=(22, 20))\n",
    "plt.title('Cohorts: User Retention for desktop')\n",
    "sns.heatmap(retention_pivot_d, annot=True, fmt='.1%', linewidths=1, linecolor='gray',vmin=0,vmax=0.15); "
   ]
  },
  {
   "cell_type": "code",
   "execution_count": null,
   "metadata": {},
   "outputs": [],
   "source": [
    "cohorts_d_t=cohorts_d[cohorts_d['main_device']=='touch']"
   ]
  },
  {
   "cell_type": "code",
   "execution_count": null,
   "metadata": {},
   "outputs": [],
   "source": [
    "initial_users_count = cohorts_d_t[(cohorts_d_t['cohort_lifetime'] == 0)][['first_visit_date','Uid',]]\n",
    "initial_users_count = initial_users_count.rename(columns={'Uid':'cohort_users'})\n",
    "cohorts_d_t = cohorts_d_t.merge(initial_users_count,on='first_visit_date')\n",
    "cohorts_d_t['retention'] = cohorts_d_t['Uid']/cohorts_d_t['cohort_users']\n",
    "#retention_pivot = cohorts_d.pivot_table(index=['first_visit_date','main_device'],columns='cohort_lifetime',values='retention',aggfunc='sum')\n",
    "retention_pivot_t = (cohorts_d_t.\n",
    "                     pivot_table(index='first_visit_date',columns='cohort_lifetime',values='retention',aggfunc='sum'))"
   ]
  },
  {
   "cell_type": "code",
   "execution_count": null,
   "metadata": {},
   "outputs": [],
   "source": [
    "sns.set(style='white')\n",
    "plt.figure(figsize=(22, 20))\n",
    "plt.title('Cohorts: User Retention for touch')\n",
    "sns.heatmap(retention_pivot_t, annot=True, fmt='.1%', linewidths=1, linecolor='gray',vmin=0,vmax=0.15); "
   ]
  },
  {
   "cell_type": "markdown",
   "metadata": {},
   "source": [
    "Retantion Rate не меняется в зависимости от устройства"
   ]
  },
  {
   "cell_type": "code",
   "execution_count": null,
   "metadata": {},
   "outputs": [],
   "source": [
    "cohorts"
   ]
  },
  {
   "cell_type": "code",
   "execution_count": null,
   "metadata": {},
   "outputs": [],
   "source": [
    "#группировка по количеству пользователей и подсчет количества покупок \n",
    "events_return = df_o.groupby('Uid').agg({'Buy Ts': 'count'})\n",
    "events_return.mean()"
   ]
  },
  {
   "cell_type": "markdown",
   "metadata": {},
   "source": [
    "### Вывод <a name=\"2.5-bullet\"></a>"
   ]
  },
  {
   "cell_type": "markdown",
   "metadata": {},
   "source": [
    "- В день сервисом пользуется 1437 человек, в неделю - 849, в месяц - 3721. То, что в неделю уникальных посетителей меньше, чем в день, можно объяснить тем, что пользователи, планируя что-то купить, могут заходить повторно в течение недели, так уникальные пользователи для каждого дня не уникальны для недели, что влияет на значения. Большое количество пользователей в месяц связано с большим временным диапазоном. \n",
    "- Количество сессий в день в среднем 11594. Длина сессии - 11 минут.\n",
    "- Нередко пользователи совершают заказ более одного раза и довольно часто заходят на сайт повторно"
   ]
  },
  {
   "cell_type": "markdown",
   "metadata": {},
   "source": [
    "## 3.Постройка отчетов и расчет метрик: продажи"
   ]
  },
  {
   "cell_type": "markdown",
   "metadata": {},
   "source": [
    "Необходимо выделить тех пользователей, что совершили заказы и определить, во время какой по счету сессии они совершили заказ (или заказы). "
   ]
  },
  {
   "cell_type": "code",
   "execution_count": null,
   "metadata": {},
   "outputs": [],
   "source": [
    "u_buy=df_v[df_v['Uid'].isin(df_o['Uid'])]"
   ]
  },
  {
   "cell_type": "markdown",
   "metadata": {},
   "source": [
    "#### составление когорт по времени первого заказа"
   ]
  },
  {
   "cell_type": "code",
   "execution_count": null,
   "metadata": {},
   "outputs": [],
   "source": [
    "df_o.info()"
   ]
  },
  {
   "cell_type": "code",
   "execution_count": null,
   "metadata": {},
   "outputs": [],
   "source": [
    "# группировка по уникальному  номеру пользователя, с поиском первой даты покупки\n",
    "first_time = df_o.groupby('Uid')['Buy Ts'].min() "
   ]
  },
  {
   "cell_type": "code",
   "execution_count": null,
   "metadata": {},
   "outputs": [],
   "source": [
    "first_time.name = 'first_time_buy'\n",
    "# обращаемся к атрибуту name Series в переменной first_order_date_by_customers"
   ]
  },
  {
   "cell_type": "code",
   "execution_count": null,
   "metadata": {},
   "outputs": [],
   "source": [
    "first_time"
   ]
  },
  {
   "cell_type": "code",
   "execution_count": null,
   "metadata": {},
   "outputs": [],
   "source": [
    "#добавление столбца с первой покупкой\n",
    "u_buy = u_buy.join(first_time,on='Uid')\n",
    "print(u_buy.head(10))"
   ]
  },
  {
   "cell_type": "markdown",
   "metadata": {},
   "source": [
    "##### Когда люди начинают покупать? <a name=\"3.1-bullet\"></a>"
   ]
  },
  {
   "cell_type": "markdown",
   "metadata": {},
   "source": [
    "Поделим людей на 2 категории:\n",
    "1. Количество тех, кто совершил первую покупку не в первый визит\n",
    "2. Количество тех, кто совершил покупку в первый визит"
   ]
  },
  {
   "cell_type": "code",
   "execution_count": null,
   "metadata": {},
   "outputs": [],
   "source": [
    "type_1= u_buy[u_buy['first_time_buy']<u_buy['Start Ts']].shape[0]\n",
    "type_2= u_buy[u_buy['first_time_buy']==u_buy['Start Ts']].shape[0]\n",
    "print('количество тех, кто совершает покупку не в первый визит',type_1)\n",
    "print('количество тех, кто совершает покупку в первый визит',type_2)"
   ]
  },
  {
   "cell_type": "markdown",
   "metadata": {},
   "source": [
    "Чаще всего люди совершают покупку во время второго захода на сайт( в среднем, пользователи не заходят на сайт больше одного раза)"
   ]
  },
  {
   "cell_type": "code",
   "execution_count": null,
   "metadata": {},
   "outputs": [],
   "source": [
    "df_o"
   ]
  },
  {
   "cell_type": "code",
   "execution_count": null,
   "metadata": {},
   "outputs": [],
   "source": [
    "b_start=df_o.merge(first_time,on='Uid')"
   ]
  },
  {
   "cell_type": "code",
   "execution_count": null,
   "metadata": {},
   "outputs": [],
   "source": [
    "b_start=b_start.merge(dev_pv,on='Uid')"
   ]
  },
  {
   "cell_type": "code",
   "execution_count": null,
   "metadata": {},
   "outputs": [],
   "source": [
    "b_start"
   ]
  },
  {
   "cell_type": "code",
   "execution_count": null,
   "metadata": {},
   "outputs": [],
   "source": [
    "df_v"
   ]
  },
  {
   "cell_type": "code",
   "execution_count": null,
   "metadata": {},
   "outputs": [],
   "source": [
    "min_event_datetime = df_v.groupby(['Uid'])['Start Ts'].min()\n",
    "min_event_datetime.name = 'min_event_datetime'\n",
    "b_start = b_start.join(min_event_datetime,on='Uid')"
   ]
  },
  {
   "cell_type": "code",
   "execution_count": null,
   "metadata": {},
   "outputs": [],
   "source": [
    "b_start=b_start[b_start['first_time_buy']>=b_start['min_event_datetime']]"
   ]
  },
  {
   "cell_type": "code",
   "execution_count": null,
   "metadata": {},
   "outputs": [],
   "source": [
    "b_start['time_purchase']=b_start['first_time_buy']-b_start['min_event_datetime']"
   ]
  },
  {
   "cell_type": "code",
   "execution_count": null,
   "metadata": {},
   "outputs": [],
   "source": [
    "b_start['time_purchase'].median()"
   ]
  },
  {
   "cell_type": "code",
   "execution_count": null,
   "metadata": {},
   "outputs": [],
   "source": [
    "b_start['time_purchase'] = b_start['time_purchase'] / np.timedelta64(1,'D')"
   ]
  },
  {
   "cell_type": "code",
   "execution_count": null,
   "metadata": {},
   "outputs": [],
   "source": [
    "b_start['time_purchase']"
   ]
  },
  {
   "cell_type": "code",
   "execution_count": null,
   "metadata": {},
   "outputs": [],
   "source": [
    "b_start=b_start[b_start['time_purchase']>0]"
   ]
  },
  {
   "cell_type": "code",
   "execution_count": null,
   "metadata": {},
   "outputs": [],
   "source": [
    "b_start"
   ]
  },
  {
   "cell_type": "code",
   "execution_count": null,
   "metadata": {},
   "outputs": [],
   "source": [
    "fig = px.histogram(b_start, x = 'time_purchase',\n",
    "                  title = 'Распределение продолжительности времени между первым посещением и первой покупкой')\n",
    "fig.show()"
   ]
  },
  {
   "cell_type": "code",
   "execution_count": null,
   "metadata": {},
   "outputs": [],
   "source": [
    "fig = px.histogram(b_start, x = 'time_purchase',color='main_device',\n",
    "                  title = 'Распределение продолжительности времени между первым посещением и первой покупкой')\n",
    "fig.show()"
   ]
  },
  {
   "cell_type": "markdown",
   "metadata": {},
   "source": [
    "Основная часть пользователей совершает первую покупку в течение первого дня, когда они оказались на сайте. Преобладающая часть пользователей делает это в течение 2 дней. Большая часть покупок совершается с компьютеров. "
   ]
  },
  {
   "cell_type": "code",
   "execution_count": null,
   "metadata": {},
   "outputs": [],
   "source": [
    "b_start.info()"
   ]
  },
  {
   "cell_type": "code",
   "execution_count": null,
   "metadata": {},
   "outputs": [],
   "source": [
    "df_v.info()"
   ]
  },
  {
   "cell_type": "code",
   "execution_count": null,
   "metadata": {},
   "outputs": [],
   "source": [
    "sour_pv_s=df_v.pivot_table(index=['Uid','Source Id'],values='Start Ts',aggfunc='min').reset_index()"
   ]
  },
  {
   "cell_type": "code",
   "execution_count": null,
   "metadata": {},
   "outputs": [],
   "source": [
    "sour_pv_s"
   ]
  },
  {
   "cell_type": "code",
   "execution_count": null,
   "metadata": {},
   "outputs": [],
   "source": [
    "sour_pv_s=sour_pv_s.drop(columns=['Start Ts'])"
   ]
  },
  {
   "cell_type": "code",
   "execution_count": null,
   "metadata": {},
   "outputs": [],
   "source": [
    "print(sour_pv_s)"
   ]
  },
  {
   "cell_type": "code",
   "execution_count": null,
   "metadata": {},
   "outputs": [],
   "source": [
    "sour_pv_s.columns=['Uid','main_sourse']"
   ]
  },
  {
   "cell_type": "code",
   "execution_count": null,
   "metadata": {},
   "outputs": [],
   "source": [
    "b_start=b_start.merge(sour_pv_s,on='Uid')"
   ]
  },
  {
   "cell_type": "code",
   "execution_count": null,
   "metadata": {},
   "outputs": [],
   "source": [
    "b_start.info()"
   ]
  },
  {
   "cell_type": "code",
   "execution_count": null,
   "metadata": {},
   "outputs": [],
   "source": [
    "b_start_s_pv=b_start.pivot_table(index='main_sourse',values='time_purchase',aggfunc='median').reset_index()"
   ]
  },
  {
   "cell_type": "code",
   "execution_count": null,
   "metadata": {},
   "outputs": [],
   "source": [
    "fig = px.bar(b_start_s_pv, x='main_sourse',y = 'time_purchase',\n",
    "                  title = 'Распределение продолжительности времени между первым посещением и первой покупкой по разным источникам перехода')\n",
    "fig.show()"
   ]
  },
  {
   "cell_type": "markdown",
   "metadata": {},
   "source": [
    "Быстрее всего совершают заказы при переходах с 3 4 5, 7 и 10 источников. "
   ]
  },
  {
   "cell_type": "markdown",
   "metadata": {},
   "source": [
    "##### Сколько раз покупают за период? <a name=\"3.2-bullet\"></a>"
   ]
  },
  {
   "cell_type": "markdown",
   "metadata": {},
   "source": [
    "Необходимо посмотреть, сколько раз совершает покупку каждая когорта в месяц"
   ]
  },
  {
   "cell_type": "code",
   "execution_count": null,
   "metadata": {},
   "outputs": [],
   "source": [
    "df_o"
   ]
  },
  {
   "cell_type": "code",
   "execution_count": null,
   "metadata": {},
   "outputs": [],
   "source": [
    "df_o.info()"
   ]
  },
  {
   "cell_type": "code",
   "execution_count": null,
   "metadata": {},
   "outputs": [],
   "source": [
    "first_time"
   ]
  },
  {
   "cell_type": "code",
   "execution_count": null,
   "metadata": {},
   "outputs": [],
   "source": [
    "df_o = df_o.merge(first_time,on='Uid')\n",
    "df_o['first_order_month'] = df_o['first_time_buy'].astype('datetime64[M]')\n",
    "df_o['order_month'] = df_o['Buy Ts'].astype('datetime64[M]')"
   ]
  },
  {
   "cell_type": "code",
   "execution_count": null,
   "metadata": {},
   "outputs": [],
   "source": [
    "df_o_pv=df_o.pivot_table(index='first_order_month',\n",
    "    columns='order_month',\n",
    "    values='Uid',\n",
    "    aggfunc='count') "
   ]
  },
  {
   "cell_type": "code",
   "execution_count": null,
   "metadata": {},
   "outputs": [],
   "source": [
    "plt.figure(figsize=(13, 9))\n",
    "plt.title('Количество пользователей по когортам')\n",
    "sns.heatmap(df_o_pv, annot=True, fmt='.1f', linewidths=1, linecolor='gray') "
   ]
  },
  {
   "cell_type": "markdown",
   "metadata": {},
   "source": [
    "В среднем каждая когорта совершает 3000 покупок. Разное количество новых пользователей может быть связана с сезонностью (например, летом меньше проводится мероприятий)"
   ]
  },
  {
   "cell_type": "markdown",
   "metadata": {},
   "source": [
    "###### Какой средний чек? <a name=\"3.3-bullet\"></a>"
   ]
  },
  {
   "cell_type": "code",
   "execution_count": null,
   "metadata": {},
   "outputs": [],
   "source": [
    "df_o.info()"
   ]
  },
  {
   "cell_type": "code",
   "execution_count": null,
   "metadata": {},
   "outputs": [],
   "source": [
    "orders_grouped_by_cohorts = df_o.groupby(['first_order_month','order_month']).agg({'Revenue':'sum','Uid':'nunique'})"
   ]
  },
  {
   "cell_type": "code",
   "execution_count": null,
   "metadata": {},
   "outputs": [],
   "source": [
    "orders_grouped_by_cohorts"
   ]
  },
  {
   "cell_type": "code",
   "execution_count": null,
   "metadata": {},
   "outputs": [],
   "source": [
    "orders_grouped_by_cohorts['revenue_per_user'] = orders_grouped_by_cohorts['Revenue'] / orders_grouped_by_cohorts['Uid'] "
   ]
  },
  {
   "cell_type": "code",
   "execution_count": null,
   "metadata": {},
   "outputs": [],
   "source": [
    "orders_grouped_by_cohorts"
   ]
  },
  {
   "cell_type": "code",
   "execution_count": null,
   "metadata": {},
   "outputs": [],
   "source": [
    "orders_grouped_by_cohorts_pv=orders_grouped_by_cohorts.pivot_table(index='first_order_month',columns='order_month',values='revenue_per_user',aggfunc='mean')"
   ]
  },
  {
   "cell_type": "code",
   "execution_count": null,
   "metadata": {},
   "outputs": [],
   "source": [
    "plt.figure(figsize=(13, 9))\n",
    "plt.title('Средний чек покупателей')\n",
    "sns.heatmap(orders_grouped_by_cohorts_pv, annot=True, fmt='.1f', linewidths=1, linecolor='gray',vmin=0,vmax=40) "
   ]
  },
  {
   "cell_type": "markdown",
   "metadata": {},
   "source": [
    "Тепловая карта, в целом, равномерна, не считая поведения когорт за июнь 2017 и за декабрь 2017, там могло зарегестрироваться сразу несколько человек, которым нравится регулярно ходить на какие-то мероприятия. Так же выбиваются поведение сентябрьсвой когорты  в декабре, там могло совпасть так, что сразу много человек сделали заказ или один человек сделал заказ на крупную группу лиц. "
   ]
  },
  {
   "cell_type": "markdown",
   "metadata": {},
   "source": [
    "##### Сколько денег приносят? (LTV) <a name=\"3.4-bullet\"></a>"
   ]
  },
  {
   "cell_type": "code",
   "execution_count": null,
   "metadata": {},
   "outputs": [],
   "source": [
    "df_o.info()"
   ]
  },
  {
   "cell_type": "code",
   "execution_count": null,
   "metadata": {},
   "outputs": [],
   "source": [
    "#cоздание отдельной переменной, где хранится месяц первой покупки для каждого покупателя\n",
    "first_orders = df_o.groupby('Uid').agg({'order_month': 'min'}).reset_index()\n",
    "first_orders.columns = ['Uid', 'first_order_month']"
   ]
  },
  {
   "cell_type": "code",
   "execution_count": null,
   "metadata": {},
   "outputs": [],
   "source": [
    "#количество новых покупателей в месяц\n",
    "cohort_sizes = first_orders.groupby('first_order_month').agg({'Uid': 'nunique'}).reset_index()\n",
    "#first_order_month = pd.merge(df_o, first_orders, on='Uid')\n",
    "cohorts = df_o.groupby(['first_order_month', 'order_month']).agg({'Revenue': 'sum'}).reset_index()"
   ]
  },
  {
   "cell_type": "code",
   "execution_count": null,
   "metadata": {},
   "outputs": [],
   "source": [
    "cohort_sizes.info()"
   ]
  },
  {
   "cell_type": "code",
   "execution_count": null,
   "metadata": {},
   "outputs": [],
   "source": [
    "cohorts"
   ]
  },
  {
   "cell_type": "code",
   "execution_count": null,
   "metadata": {},
   "outputs": [],
   "source": [
    "report = pd.merge(cohort_sizes, cohorts, on='first_order_month')\n",
    "print(report.head())"
   ]
  },
  {
   "cell_type": "markdown",
   "metadata": {},
   "source": [
    "Поскольку маржинальность неизвестна, предположим, что выручка - это и есть валовая прибыль. "
   ]
  },
  {
   "cell_type": "code",
   "execution_count": null,
   "metadata": {},
   "outputs": [],
   "source": [
    "#расчет возраста когорт\n",
    "report['age'] = (report['order_month'] - report['first_order_month']) / np.timedelta64(1, 'M')\n",
    "report['age'] = report['age'].round().astype('int')\n",
    "report['ltv'] = report['Revenue'] / report['Uid']\n",
    "result = report.pivot_table(\n",
    "        index='first_order_month', \n",
    "        columns='age', \n",
    "        values='ltv', \n",
    "        aggfunc='mean')\n",
    "result=result.cumsum(axis=1).round(2)"
   ]
  },
  {
   "cell_type": "code",
   "execution_count": null,
   "metadata": {},
   "outputs": [],
   "source": [
    "plt.figure(figsize=(13, 9))\n",
    "plt.title('Сколько приносят денег LTV')\n",
    "sns.heatmap(result, annot=True, fmt='.1f', linewidths=1, linecolor='gray') "
   ]
  },
  {
   "cell_type": "markdown",
   "metadata": {},
   "source": [
    "За исключением частных случаев, основную прибыль когорта дает в месяц своего появлени. Исключения могут быть связаны с совпадениями, когда сразу много людей решили сделать заказ. Доход от одного клиента  LTV не зависит от сезонности. "
   ]
  },
  {
   "cell_type": "markdown",
   "metadata": {},
   "source": [
    "### Вывод  <a name=\"3.5-bullet\"></a>"
   ]
  },
  {
   "cell_type": "markdown",
   "metadata": {},
   "source": [
    "- люди не склонны совершать покупки в свой первый сеанс\n",
    "- в большинстве своем люди покупают что-то единожды, затем меньшинство возвращается в течение всего года "
   ]
  },
  {
   "cell_type": "markdown",
   "metadata": {},
   "source": [
    "## 4.Постройка отчетов и расчет метрик: маркетинг"
   ]
  },
  {
   "cell_type": "markdown",
   "metadata": {},
   "source": [
    "##### Сколько денег потратили? Всего / на каждый источник / по времени <a name=\"4.1-bullet\"></a>"
   ]
  },
  {
   "cell_type": "code",
   "execution_count": null,
   "metadata": {},
   "outputs": [],
   "source": [
    "df_с"
   ]
  },
  {
   "cell_type": "markdown",
   "metadata": {},
   "source": [
    "##### сколько было потрачено всего"
   ]
  },
  {
   "cell_type": "code",
   "execution_count": null,
   "metadata": {},
   "outputs": [],
   "source": [
    "df_с['costs'].sum()"
   ]
  },
  {
   "cell_type": "markdown",
   "metadata": {},
   "source": [
    "##### сколько было потрачено на каждый источник"
   ]
  },
  {
   "cell_type": "code",
   "execution_count": null,
   "metadata": {},
   "outputs": [],
   "source": [
    "df_с_source=df_с.pivot_table(index='source_id',values='costs',aggfunc='sum')\n",
    "df_с_source"
   ]
  },
  {
   "cell_type": "markdown",
   "metadata": {},
   "source": [
    "Важно отметить, что не по всем ресурсам перехода есть информация о затратах (допустим, в данном временном промежутке реклама у этих ресурсов не покупалась)"
   ]
  },
  {
   "cell_type": "markdown",
   "metadata": {},
   "source": [
    "###### сколько тратилось каждый месяц"
   ]
  },
  {
   "cell_type": "code",
   "execution_count": null,
   "metadata": {},
   "outputs": [],
   "source": [
    "df_с['month'] = df_с['dt'].astype('datetime64[M]')"
   ]
  },
  {
   "cell_type": "code",
   "execution_count": null,
   "metadata": {},
   "outputs": [],
   "source": [
    "df_с"
   ]
  },
  {
   "cell_type": "code",
   "execution_count": null,
   "metadata": {},
   "outputs": [],
   "source": [
    "df_с_month=df_с.pivot_table(index=['month'],values='costs',aggfunc='sum').reset_index()"
   ]
  },
  {
   "cell_type": "code",
   "execution_count": null,
   "metadata": {},
   "outputs": [],
   "source": [
    "df_с_month"
   ]
  },
  {
   "cell_type": "code",
   "execution_count": null,
   "metadata": {},
   "outputs": [],
   "source": [
    "fig = px.line(df_с_month, x = 'month', y = 'costs', title = 'изменение расходов на рекламу по месяцам')\n",
    "fig.show()\n"
   ]
  },
  {
   "cell_type": "code",
   "execution_count": null,
   "metadata": {},
   "outputs": [],
   "source": [
    "df_с_month_s=df_с.pivot_table(index=['month','source_id'],values='costs',aggfunc='sum').reset_index()\n",
    "fig = px.line(df_с_month_s, x = 'month',color='source_id', y = 'costs', title = 'изменение расходов на рекламу по месяцам')\n",
    "fig.show()"
   ]
  },
  {
   "cell_type": "code",
   "execution_count": null,
   "metadata": {},
   "outputs": [],
   "source": [
    "df_с_sourse=df_с.pivot_table(index=['source_id'],values='costs',aggfunc='sum').reset_index()\n",
    "fig = px.bar(df_с_sourse, x='source_id', y = 'costs', title = 'изменение расходов на рекламу по месяцам')\n",
    "fig.show()"
   ]
  },
  {
   "cell_type": "markdown",
   "metadata": {},
   "source": [
    "- Больльше всего тратится на рекламу с августа по апрель\n",
    "- Самый дорогой источник тот, что под номером 3, самые дешевые - под номерами 9 и 10\n",
    "- Динамика расходов на рекламу для всех источников одинакова"
   ]
  },
  {
   "cell_type": "markdown",
   "metadata": {},
   "source": [
    "###### Сколько стоило привлечение одного покупателя из каждого источника? <a name=\"4.2-bullet\"></a>"
   ]
  },
  {
   "cell_type": "markdown",
   "metadata": {},
   "source": [
    "Необходимо выявить количество покупателей из каждого источника"
   ]
  },
  {
   "cell_type": "code",
   "execution_count": null,
   "metadata": {},
   "outputs": [],
   "source": [
    "df_v.info()"
   ]
  },
  {
   "cell_type": "code",
   "execution_count": null,
   "metadata": {},
   "outputs": [],
   "source": [
    "dev_pv=df_v.pivot_table(index=['Uid','Device'],values='Start Ts',aggfunc='min').reset_index()"
   ]
  },
  {
   "cell_type": "code",
   "execution_count": null,
   "metadata": {},
   "outputs": [],
   "source": [
    "dev_pv=dev_pv.drop(columns=['Start Ts'])"
   ]
  },
  {
   "cell_type": "code",
   "execution_count": null,
   "metadata": {},
   "outputs": [],
   "source": [
    "dev_pv"
   ]
  },
  {
   "cell_type": "code",
   "execution_count": null,
   "metadata": {},
   "outputs": [],
   "source": [
    "dev_pv.columns=['Uid','main_device']"
   ]
  },
  {
   "cell_type": "code",
   "execution_count": null,
   "metadata": {},
   "outputs": [],
   "source": [
    "df_v=df_v.merge(dev_pv,on='Uid',how='left')"
   ]
  },
  {
   "cell_type": "markdown",
   "metadata": {},
   "source": [
    "###### установление покупателей из каждого  источника перехода"
   ]
  },
  {
   "cell_type": "code",
   "execution_count": null,
   "metadata": {},
   "outputs": [],
   "source": [
    "df_v.info()"
   ]
  },
  {
   "cell_type": "code",
   "execution_count": null,
   "metadata": {},
   "outputs": [],
   "source": [
    "df_v=df_v.merge(sour_pv_s,on='Uid')"
   ]
  },
  {
   "cell_type": "code",
   "execution_count": null,
   "metadata": {},
   "outputs": [],
   "source": [
    "#определение количества покупателей с каждого источника перехода\n",
    "sourse_count=df_v.pivot_table(index='main_sourse',values='Uid',aggfunc='count')\n",
    "sourse_count"
   ]
  },
  {
   "cell_type": "code",
   "execution_count": null,
   "metadata": {},
   "outputs": [],
   "source": [
    "sourse_count.reset_index(drop=False, inplace=True)\n",
    "sourse_count"
   ]
  },
  {
   "cell_type": "code",
   "execution_count": null,
   "metadata": {},
   "outputs": [],
   "source": [
    "sourse_count.columns=['source_id','Uid']"
   ]
  },
  {
   "cell_type": "code",
   "execution_count": null,
   "metadata": {},
   "outputs": [],
   "source": [
    "sourse_count"
   ]
  },
  {
   "cell_type": "code",
   "execution_count": null,
   "metadata": {},
   "outputs": [],
   "source": [
    "df_с_source"
   ]
  },
  {
   "cell_type": "code",
   "execution_count": null,
   "metadata": {},
   "outputs": [],
   "source": [
    "df_с_source.reset_index(drop=False, inplace=True)"
   ]
  },
  {
   "cell_type": "code",
   "execution_count": null,
   "metadata": {},
   "outputs": [],
   "source": [
    "sourse_count.columns=['source_id','Uid']"
   ]
  },
  {
   "cell_type": "code",
   "execution_count": null,
   "metadata": {},
   "outputs": [],
   "source": [
    "sourse_count"
   ]
  },
  {
   "cell_type": "code",
   "execution_count": null,
   "metadata": {},
   "outputs": [],
   "source": [
    "#присоединение к столбцу с расходами столбца с количеством покупателей\n",
    "source_user = df_с_source.merge(sourse_count,on='source_id')"
   ]
  },
  {
   "cell_type": "code",
   "execution_count": null,
   "metadata": {},
   "outputs": [],
   "source": [
    "df_с_source"
   ]
  },
  {
   "cell_type": "code",
   "execution_count": null,
   "metadata": {},
   "outputs": [],
   "source": [
    "source_user=source_user.fillna(0)"
   ]
  },
  {
   "cell_type": "code",
   "execution_count": null,
   "metadata": {},
   "outputs": [],
   "source": [
    "source_user"
   ]
  },
  {
   "cell_type": "code",
   "execution_count": null,
   "metadata": {},
   "outputs": [],
   "source": [
    "source_user['cac'] = source_user['costs'] / source_user['Uid']"
   ]
  },
  {
   "cell_type": "code",
   "execution_count": null,
   "metadata": {},
   "outputs": [],
   "source": [
    "source_user"
   ]
  },
  {
   "cell_type": "code",
   "execution_count": null,
   "metadata": {},
   "outputs": [],
   "source": [
    "fig = px.bar(source_user,\n",
    "            x = 'source_id', y = 'cac',\n",
    "            title = 'стоимость привлечения клиента из каждого источника перехода')\n",
    "fig.show()"
   ]
  },
  {
   "cell_type": "markdown",
   "metadata": {},
   "source": [
    "##### установление количества покупателей из  разных девайсов"
   ]
  },
  {
   "cell_type": "code",
   "execution_count": null,
   "metadata": {},
   "outputs": [],
   "source": [
    "# создание таблицы с количеством покупателей из разных устройств\n",
    "device_count=df_v.pivot_table(index='main_device',values='Uid',aggfunc='count').reset_index()\n",
    "device_count"
   ]
  },
  {
   "cell_type": "code",
   "execution_count": null,
   "metadata": {},
   "outputs": [],
   "source": [
    "fig = px.bar(device_count,x='main_device', y = 'Uid',color='main_device',\n",
    "                 title ='количество покупателей с разных устройств')\n",
    "fig.update_xaxes(title_text='устройства')\n",
    "fig.update_yaxes(title_text='количество покупателей')\n",
    "fig.show()"
   ]
  },
  {
   "cell_type": "markdown",
   "metadata": {},
   "source": [
    "Люди совершают покупки с сенсорных устройств значительно меньше, это может быть связано с тем, что средний чек каждого покупателя составляет несколько тысяч, и решение о таких расходах не принимается \"на ходу\"."
   ]
  },
  {
   "cell_type": "markdown",
   "metadata": {},
   "source": [
    "######  Насколько окупились расходы? (ROI) <a name=\"4.3-bullet\"></a>"
   ]
  },
  {
   "cell_type": "code",
   "execution_count": null,
   "metadata": {},
   "outputs": [],
   "source": [
    "df_v.info()"
   ]
  },
  {
   "cell_type": "code",
   "execution_count": null,
   "metadata": {},
   "outputs": [],
   "source": [
    "df_o.info()"
   ]
  },
  {
   "cell_type": "markdown",
   "metadata": {},
   "source": [
    " ###### Расчет  ROI по источникам перехода "
   ]
  },
  {
   "cell_type": "code",
   "execution_count": null,
   "metadata": {},
   "outputs": [],
   "source": [
    "sour_pv_s"
   ]
  },
  {
   "cell_type": "code",
   "execution_count": null,
   "metadata": {},
   "outputs": [],
   "source": [
    "df_o=df_o.merge(sour_pv_s,on='Uid')"
   ]
  },
  {
   "cell_type": "code",
   "execution_count": null,
   "metadata": {},
   "outputs": [],
   "source": [
    "#формирование датасета с доходами из каждого источника перехода\n",
    "sourse_rev=df_o.pivot_table(index='main_sourse',values='Revenue',aggfunc='sum')"
   ]
  },
  {
   "cell_type": "code",
   "execution_count": null,
   "metadata": {},
   "outputs": [],
   "source": [
    "sourse_rev.reset_index(drop=False, inplace=True)\n",
    "sourse_rev.columns=['source_id','Revenue']"
   ]
  },
  {
   "cell_type": "code",
   "execution_count": null,
   "metadata": {},
   "outputs": [],
   "source": [
    "sourse_count"
   ]
  },
  {
   "cell_type": "code",
   "execution_count": null,
   "metadata": {},
   "outputs": [],
   "source": [
    "df_с_source"
   ]
  },
  {
   "cell_type": "code",
   "execution_count": null,
   "metadata": {},
   "outputs": [],
   "source": [
    "#создание датасета с затратами и прибылью для каждого  рекламного источника \n",
    "rev_cac=df_с_source.merge(sourse_rev,on='source_id')"
   ]
  },
  {
   "cell_type": "code",
   "execution_count": null,
   "metadata": {},
   "outputs": [],
   "source": [
    "rev_cac"
   ]
  },
  {
   "cell_type": "code",
   "execution_count": null,
   "metadata": {},
   "outputs": [],
   "source": [
    "# расчет RIO \n",
    "rev_cac['ROI']=(rev_cac['Revenue']-rev_cac['costs'])/rev_cac['costs'] "
   ]
  },
  {
   "cell_type": "code",
   "execution_count": null,
   "metadata": {},
   "outputs": [],
   "source": [
    "rev_cac"
   ]
  },
  {
   "cell_type": "code",
   "execution_count": null,
   "metadata": {},
   "outputs": [],
   "source": [
    "# построение графика с окупаемостью каждого рекламного источника\n",
    "fig = px.scatter(rev_cac, x = 'source_id', y = 'ROI',\n",
    "                 title =' Окупаемость ROI каждого источника перехода')\n",
    "fig.update_xaxes(title_text='id источника перехода')\n",
    "fig.update_yaxes(title_text='окупаемость ROI')\n",
    "fig.show()"
   ]
  },
  {
   "cell_type": "markdown",
   "metadata": {},
   "source": [
    "Все расходы, за исключением ресурса 3, окупились. Самыми нерентабельными оказались ресурсы с номерами 3,4 и 9,10"
   ]
  },
  {
   "cell_type": "markdown",
   "metadata": {},
   "source": [
    "Сравним окупаемость с расходами на каждый источник"
   ]
  },
  {
   "cell_type": "code",
   "execution_count": null,
   "metadata": {
    "scrolled": true
   },
   "outputs": [],
   "source": [
    "fig = px.scatter(df_с_source, x = 'source_id', y = 'costs',\n",
    "                 title =' Расходы на рекламу на каждый источник покупателей')\n",
    "fig.update_xaxes(title_text='id источника перехода')\n",
    "fig.update_yaxes(title_text='расходы на источник перехода')\n",
    "fig.show()"
   ]
  },
  {
   "cell_type": "markdown",
   "metadata": {},
   "source": [
    "Соотнесем окупаемость, расходы и количество новых покупателей"
   ]
  },
  {
   "cell_type": "code",
   "execution_count": null,
   "metadata": {},
   "outputs": [],
   "source": [
    "fig = px.scatter(sourse_count, x = 'source_id', y = 'Uid',\n",
    "                 title =' Количество покупателей с каждого  источника')\n",
    "fig.update_xaxes(title_text='id источника перехода')\n",
    "fig.update_yaxes(title_text='количество совершивших заказ пользователей ')\n",
    "fig.show()"
   ]
  },
  {
   "cell_type": "markdown",
   "metadata": {},
   "source": [
    "#### Вывод <a name=\"4.4-bullet\"></a>"
   ]
  },
  {
   "cell_type": "markdown",
   "metadata": {},
   "source": [
    "- расходы на рекламные источники неравномерны\n",
    "- так же расходам на рекламу характерна сезонность, с весны расходы падают\n",
    "- расходы на рекламу окупились во всех случаях, за исключением источника номер 3\n",
    "- рекламный источник с под номером 3 имеет низкую рентабельность, так как на него уходит много денег из-за чего выходит отрицательная окупаемость\n",
    "- люди делают покупки с сенсорных устройств значительно меньше, это может быть связано с тем, что средний чек каждого покупателя составляет несколько тысяч, и решение о таких расходах не принимается \"на ходу\"."
   ]
  },
  {
   "cell_type": "markdown",
   "metadata": {},
   "source": [
    "## Общий вывод <a name=\"5-bullet\"></a>"
   ]
  },
  {
   "cell_type": "markdown",
   "metadata": {},
   "source": [
    "- люди не склонны совершать покупки в свой первый сеанс \n",
    "- основной заработок с когорты приходится на месяц, когда она была сформирована\n",
    "- воспользовавшись сервисом один раз, малая группа людей будет пользоваться сервисом повторно в течение года, таким образом база пользователей уверенно наращивается\n",
    "- с весны до лета количество новых пользователей уменьшается, затем осенью количество новых пользователей резко возрастает, точно так же уменьшаются и увеличиваютяс расходы на рекламу по месяцам. Можно предположить, что количество новых пользователей зависит от рекламы. Однако важно отметить, что летом проводится меньше всего мероприятий. Расходы на рекламу летом могут быть минимальны, так как в ней нет смысла\n",
    "- средний чек не меняется с течением времени\n",
    "- средний чек и доход от одного покупателя не зависит от сезонности\n",
    "-  есть смысл снизить расходы на рекламный источник номер 3. Он имеет низкую рентабельность, так как на него уходит много денег, при этом у него отрицательная окупаемость ROI\n",
    "- есть смысл увеличить расходы на источник номер 4, так как от него приходит большое количество клиентов\n",
    "- выбирая между рекламой для сенсорных устройств или для стационарных, лучше выбрать рекламу для стационарных устройств, так как с этих устройств приходит большее количество покупателей"
   ]
  }
 ],
 "metadata": {
  "ExecuteTimeLog": [
   {
    "duration": 1540,
    "start_time": "2022-06-08T11:34:21.952Z"
   },
   {
    "duration": 1951,
    "start_time": "2022-06-08T11:34:23.494Z"
   },
   {
    "duration": 64,
    "start_time": "2022-06-08T11:34:25.447Z"
   },
   {
    "duration": 15,
    "start_time": "2022-06-08T11:34:25.514Z"
   },
   {
    "duration": 179,
    "start_time": "2022-06-08T11:34:25.531Z"
   },
   {
    "duration": 34,
    "start_time": "2022-06-08T11:34:25.712Z"
   },
   {
    "duration": 105,
    "start_time": "2022-06-08T11:34:25.747Z"
   },
   {
    "duration": 11,
    "start_time": "2022-06-08T11:34:25.854Z"
   },
   {
    "duration": 7,
    "start_time": "2022-06-08T11:34:25.867Z"
   },
   {
    "duration": 13,
    "start_time": "2022-06-08T11:34:25.876Z"
   },
   {
    "duration": 11,
    "start_time": "2022-06-08T11:34:25.891Z"
   },
   {
    "duration": 65,
    "start_time": "2022-06-08T11:34:25.903Z"
   },
   {
    "duration": 11,
    "start_time": "2022-06-08T11:34:25.970Z"
   },
   {
    "duration": 12,
    "start_time": "2022-06-08T11:34:25.982Z"
   },
   {
    "duration": 6,
    "start_time": "2022-06-08T11:34:25.995Z"
   },
   {
    "duration": 12,
    "start_time": "2022-06-08T11:34:26.003Z"
   },
   {
    "duration": 18,
    "start_time": "2022-06-08T11:34:26.016Z"
   },
   {
    "duration": 14,
    "start_time": "2022-06-08T11:34:26.036Z"
   },
   {
    "duration": 11,
    "start_time": "2022-06-08T11:34:26.051Z"
   },
   {
    "duration": 5,
    "start_time": "2022-06-08T11:34:26.064Z"
   },
   {
    "duration": 7,
    "start_time": "2022-06-08T11:34:26.071Z"
   },
   {
    "duration": 5,
    "start_time": "2022-06-08T11:34:26.080Z"
   },
   {
    "duration": 6,
    "start_time": "2022-06-08T11:34:26.086Z"
   },
   {
    "duration": 31,
    "start_time": "2022-06-08T11:34:26.093Z"
   },
   {
    "duration": 10,
    "start_time": "2022-06-08T11:34:26.125Z"
   },
   {
    "duration": 13,
    "start_time": "2022-06-08T11:34:26.136Z"
   },
   {
    "duration": 5,
    "start_time": "2022-06-08T11:34:26.151Z"
   },
   {
    "duration": 24,
    "start_time": "2022-06-08T11:34:26.159Z"
   },
   {
    "duration": 14,
    "start_time": "2022-06-08T11:34:26.185Z"
   },
   {
    "duration": 47,
    "start_time": "2022-06-08T11:34:26.201Z"
   },
   {
    "duration": 11,
    "start_time": "2022-06-08T11:34:26.249Z"
   },
   {
    "duration": 14,
    "start_time": "2022-06-08T11:34:26.261Z"
   },
   {
    "duration": 5,
    "start_time": "2022-06-08T11:34:26.277Z"
   },
   {
    "duration": 44,
    "start_time": "2022-06-08T11:34:26.290Z"
   },
   {
    "duration": 104,
    "start_time": "2022-06-08T11:34:26.339Z"
   },
   {
    "duration": 5,
    "start_time": "2022-06-08T11:34:26.445Z"
   },
   {
    "duration": 6,
    "start_time": "2022-06-08T11:34:26.452Z"
   },
   {
    "duration": 7,
    "start_time": "2022-06-08T11:34:26.459Z"
   },
   {
    "duration": 446,
    "start_time": "2022-06-08T11:34:26.468Z"
   },
   {
    "duration": 277,
    "start_time": "2022-06-08T11:34:26.915Z"
   },
   {
    "duration": 17,
    "start_time": "2022-06-08T11:34:27.194Z"
   },
   {
    "duration": 5,
    "start_time": "2022-06-08T11:34:27.212Z"
   },
   {
    "duration": 122,
    "start_time": "2022-06-08T11:34:27.222Z"
   },
   {
    "duration": 8,
    "start_time": "2022-06-08T11:34:27.346Z"
   },
   {
    "duration": 6,
    "start_time": "2022-06-08T11:34:27.356Z"
   },
   {
    "duration": 46,
    "start_time": "2022-06-08T11:34:27.363Z"
   },
   {
    "duration": 77,
    "start_time": "2022-06-08T11:34:27.422Z"
   },
   {
    "duration": 132,
    "start_time": "2022-06-08T11:34:27.501Z"
   },
   {
    "duration": 54,
    "start_time": "2022-06-08T11:34:27.639Z"
   },
   {
    "duration": 15,
    "start_time": "2022-06-08T11:34:27.694Z"
   },
   {
    "duration": 16,
    "start_time": "2022-06-08T11:34:27.710Z"
   },
   {
    "duration": 37,
    "start_time": "2022-06-08T11:34:27.730Z"
   },
   {
    "duration": 75,
    "start_time": "2022-06-08T11:34:27.769Z"
   },
   {
    "duration": 45,
    "start_time": "2022-06-08T11:34:27.845Z"
   },
   {
    "duration": 182,
    "start_time": "2022-06-08T11:34:27.892Z"
   },
   {
    "duration": 26,
    "start_time": "2022-06-08T11:34:28.076Z"
   },
   {
    "duration": 34,
    "start_time": "2022-06-08T11:34:28.103Z"
   },
   {
    "duration": 35,
    "start_time": "2022-06-08T11:34:28.141Z"
   },
   {
    "duration": 96,
    "start_time": "2022-06-08T11:34:28.178Z"
   },
   {
    "duration": 12,
    "start_time": "2022-06-08T11:34:28.276Z"
   },
   {
    "duration": 71,
    "start_time": "2022-06-08T11:34:28.289Z"
   },
   {
    "duration": 108,
    "start_time": "2022-06-08T11:34:28.362Z"
   },
   {
    "duration": 10,
    "start_time": "2022-06-08T11:34:28.471Z"
   },
   {
    "duration": 14,
    "start_time": "2022-06-08T11:34:28.483Z"
   },
   {
    "duration": 40,
    "start_time": "2022-06-08T11:34:28.499Z"
   },
   {
    "duration": 9,
    "start_time": "2022-06-08T11:34:28.541Z"
   },
   {
    "duration": 2214,
    "start_time": "2022-06-08T11:34:28.552Z"
   },
   {
    "duration": 2477,
    "start_time": "2022-06-08T11:34:30.768Z"
   },
   {
    "duration": 84,
    "start_time": "2022-06-08T11:34:33.248Z"
   },
   {
    "duration": 311,
    "start_time": "2022-06-08T11:34:33.342Z"
   },
   {
    "duration": 3,
    "start_time": "2022-06-08T11:34:33.655Z"
   },
   {
    "duration": 286,
    "start_time": "2022-06-08T11:34:33.660Z"
   },
   {
    "duration": 101,
    "start_time": "2022-06-08T11:34:33.947Z"
   },
   {
    "duration": 1057,
    "start_time": "2022-06-08T11:34:34.049Z"
   },
   {
    "duration": 41,
    "start_time": "2022-06-08T11:34:35.108Z"
   },
   {
    "duration": 245,
    "start_time": "2022-06-08T11:34:35.151Z"
   },
   {
    "duration": 174,
    "start_time": "2022-06-08T11:34:35.398Z"
   },
   {
    "duration": 12,
    "start_time": "2022-06-08T11:34:35.573Z"
   },
   {
    "duration": 44,
    "start_time": "2022-06-08T11:34:35.587Z"
   },
   {
    "duration": 8,
    "start_time": "2022-06-08T11:34:35.633Z"
   },
   {
    "duration": 22,
    "start_time": "2022-06-08T11:34:35.642Z"
   },
   {
    "duration": 28,
    "start_time": "2022-06-08T11:34:35.672Z"
   },
   {
    "duration": 151,
    "start_time": "2022-06-08T11:34:35.701Z"
   },
   {
    "duration": 10,
    "start_time": "2022-06-08T11:34:35.854Z"
   },
   {
    "duration": 79,
    "start_time": "2022-06-08T11:34:35.866Z"
   },
   {
    "duration": 16,
    "start_time": "2022-06-08T11:34:35.948Z"
   },
   {
    "duration": 118,
    "start_time": "2022-06-08T11:34:35.966Z"
   },
   {
    "duration": 4,
    "start_time": "2022-06-08T11:34:36.086Z"
   },
   {
    "duration": 35,
    "start_time": "2022-06-08T11:34:36.091Z"
   },
   {
    "duration": 12,
    "start_time": "2022-06-08T11:34:36.128Z"
   },
   {
    "duration": 14,
    "start_time": "2022-06-08T11:34:36.142Z"
   },
   {
    "duration": 11,
    "start_time": "2022-06-08T11:34:36.158Z"
   },
   {
    "duration": 1095,
    "start_time": "2022-06-08T11:34:36.171Z"
   },
   {
    "duration": 4,
    "start_time": "2022-06-08T11:34:37.268Z"
   },
   {
    "duration": 21,
    "start_time": "2022-06-08T11:34:37.274Z"
   },
   {
    "duration": 1078,
    "start_time": "2022-06-08T11:34:37.297Z"
   },
   {
    "duration": 11,
    "start_time": "2022-06-08T11:34:38.376Z"
   },
   {
    "duration": 18,
    "start_time": "2022-06-08T11:34:38.389Z"
   },
   {
    "duration": 37,
    "start_time": "2022-06-08T11:34:38.409Z"
   },
   {
    "duration": 10,
    "start_time": "2022-06-08T11:34:38.448Z"
   },
   {
    "duration": 11,
    "start_time": "2022-06-08T11:34:38.459Z"
   },
   {
    "duration": 2,
    "start_time": "2022-06-08T11:34:38.471Z"
   },
   {
    "duration": 7,
    "start_time": "2022-06-08T11:34:38.475Z"
   },
   {
    "duration": 44,
    "start_time": "2022-06-08T11:34:38.484Z"
   },
   {
    "duration": 13,
    "start_time": "2022-06-08T11:34:38.534Z"
   },
   {
    "duration": 17,
    "start_time": "2022-06-08T11:34:38.549Z"
   },
   {
    "duration": 18,
    "start_time": "2022-06-08T11:34:38.567Z"
   },
   {
    "duration": 56,
    "start_time": "2022-06-08T11:34:38.587Z"
   },
   {
    "duration": 16,
    "start_time": "2022-06-08T11:34:38.644Z"
   },
   {
    "duration": 16,
    "start_time": "2022-06-08T11:34:38.662Z"
   },
   {
    "duration": 113,
    "start_time": "2022-06-08T11:34:38.680Z"
   },
   {
    "duration": 8,
    "start_time": "2022-06-08T11:34:38.795Z"
   },
   {
    "duration": 8,
    "start_time": "2022-06-08T11:34:38.804Z"
   },
   {
    "duration": 16,
    "start_time": "2022-06-08T11:34:38.813Z"
   },
   {
    "duration": 8,
    "start_time": "2022-06-08T11:34:38.831Z"
   },
   {
    "duration": 10,
    "start_time": "2022-06-08T11:34:38.840Z"
   },
   {
    "duration": 7,
    "start_time": "2022-06-08T11:34:38.851Z"
   },
   {
    "duration": 21,
    "start_time": "2022-06-08T11:34:38.859Z"
   },
   {
    "duration": 361,
    "start_time": "2022-06-08T11:34:38.882Z"
   },
   {
    "duration": 685,
    "start_time": "2022-06-08T11:34:39.247Z"
   },
   {
    "duration": 22,
    "start_time": "2022-06-08T11:34:39.936Z"
   },
   {
    "duration": 81,
    "start_time": "2022-06-08T11:34:39.960Z"
   },
   {
    "duration": 242,
    "start_time": "2022-06-08T11:34:40.043Z"
   },
   {
    "duration": 10,
    "start_time": "2022-06-08T11:34:40.287Z"
   },
   {
    "duration": 13,
    "start_time": "2022-06-08T11:34:40.298Z"
   },
   {
    "duration": 18,
    "start_time": "2022-06-08T11:34:40.312Z"
   },
   {
    "duration": 14,
    "start_time": "2022-06-08T11:34:40.333Z"
   },
   {
    "duration": 51,
    "start_time": "2022-06-08T11:34:40.349Z"
   },
   {
    "duration": 25,
    "start_time": "2022-06-08T11:34:40.402Z"
   },
   {
    "duration": 16,
    "start_time": "2022-06-08T11:34:40.432Z"
   },
   {
    "duration": 65,
    "start_time": "2022-06-08T11:34:40.449Z"
   },
   {
    "duration": 27,
    "start_time": "2022-06-08T11:34:40.515Z"
   },
   {
    "duration": 18,
    "start_time": "2022-06-08T11:34:40.544Z"
   },
   {
    "duration": 5,
    "start_time": "2022-06-08T11:34:40.563Z"
   },
   {
    "duration": 26,
    "start_time": "2022-06-08T11:34:40.570Z"
   },
   {
    "duration": 14,
    "start_time": "2022-06-08T11:34:40.598Z"
   },
   {
    "duration": 1005,
    "start_time": "2022-06-08T11:34:40.614Z"
   },
   {
    "duration": 21,
    "start_time": "2022-06-08T11:34:41.620Z"
   },
   {
    "duration": 13,
    "start_time": "2022-06-08T11:34:41.642Z"
   },
   {
    "duration": 14,
    "start_time": "2022-06-08T11:34:41.656Z"
   },
   {
    "duration": 4,
    "start_time": "2022-06-08T11:34:41.671Z"
   },
   {
    "duration": 21,
    "start_time": "2022-06-08T11:34:41.676Z"
   },
   {
    "duration": 42,
    "start_time": "2022-06-08T11:34:41.698Z"
   },
   {
    "duration": 1040,
    "start_time": "2022-06-08T11:34:41.742Z"
   },
   {
    "duration": 15,
    "start_time": "2022-06-08T11:34:42.785Z"
   },
   {
    "duration": 28,
    "start_time": "2022-06-08T11:34:42.802Z"
   },
   {
    "duration": 19,
    "start_time": "2022-06-08T11:34:42.837Z"
   },
   {
    "duration": 17,
    "start_time": "2022-06-08T11:34:42.858Z"
   },
   {
    "duration": 23,
    "start_time": "2022-06-08T11:34:42.876Z"
   },
   {
    "duration": 19,
    "start_time": "2022-06-08T11:34:42.901Z"
   },
   {
    "duration": 29,
    "start_time": "2022-06-08T11:34:42.922Z"
   },
   {
    "duration": 858,
    "start_time": "2022-06-08T11:34:42.953Z"
   },
   {
    "duration": 28,
    "start_time": "2022-06-08T11:34:43.813Z"
   },
   {
    "duration": 5,
    "start_time": "2022-06-08T11:34:43.842Z"
   },
   {
    "duration": 19,
    "start_time": "2022-06-08T11:34:43.848Z"
   },
   {
    "duration": 3,
    "start_time": "2022-06-08T11:34:43.868Z"
   },
   {
    "duration": 17,
    "start_time": "2022-06-08T11:34:43.873Z"
   },
   {
    "duration": 20,
    "start_time": "2022-06-08T11:34:43.892Z"
   },
   {
    "duration": 18,
    "start_time": "2022-06-08T11:34:43.914Z"
   },
   {
    "duration": 158,
    "start_time": "2022-06-08T11:34:43.933Z"
   },
   {
    "duration": 86,
    "start_time": "2022-06-08T11:34:44.093Z"
   },
   {
    "duration": 68,
    "start_time": "2022-06-08T11:34:44.180Z"
   },
   {
    "duration": 25,
    "start_time": "2022-06-08T11:34:44.250Z"
   },
   {
    "duration": 202,
    "start_time": "2022-06-08T11:34:44.277Z"
   },
   {
    "duration": 6,
    "start_time": "2022-06-08T11:34:44.480Z"
   },
   {
    "duration": 10,
    "start_time": "2022-06-08T11:34:44.487Z"
   },
   {
    "duration": 5,
    "start_time": "2022-06-08T11:34:44.498Z"
   },
   {
    "duration": 126,
    "start_time": "2022-06-08T11:34:44.504Z"
   },
   {
    "duration": 39,
    "start_time": "2022-06-08T11:34:44.637Z"
   },
   {
    "duration": 183,
    "start_time": "2022-06-08T11:34:44.678Z"
   },
   {
    "duration": 77,
    "start_time": "2022-06-08T11:34:44.863Z"
   },
   {
    "duration": 7,
    "start_time": "2022-06-08T11:34:44.943Z"
   },
   {
    "duration": 6,
    "start_time": "2022-06-08T11:34:44.951Z"
   },
   {
    "duration": 10,
    "start_time": "2022-06-08T11:34:44.958Z"
   },
   {
    "duration": 9,
    "start_time": "2022-06-08T11:34:44.969Z"
   },
   {
    "duration": 7,
    "start_time": "2022-06-08T11:34:44.979Z"
   },
   {
    "duration": 6,
    "start_time": "2022-06-08T11:34:44.987Z"
   },
   {
    "duration": 8,
    "start_time": "2022-06-08T11:34:44.995Z"
   },
   {
    "duration": 27,
    "start_time": "2022-06-08T11:34:45.005Z"
   },
   {
    "duration": 21,
    "start_time": "2022-06-08T11:34:45.034Z"
   },
   {
    "duration": 9,
    "start_time": "2022-06-08T11:34:45.057Z"
   },
   {
    "duration": 10,
    "start_time": "2022-06-08T11:34:45.068Z"
   },
   {
    "duration": 11,
    "start_time": "2022-06-08T11:34:45.079Z"
   },
   {
    "duration": 21,
    "start_time": "2022-06-08T11:34:45.091Z"
   },
   {
    "duration": 51,
    "start_time": "2022-06-08T11:34:45.114Z"
   },
   {
    "duration": 73,
    "start_time": "2022-06-08T11:34:45.167Z"
   },
   {
    "duration": 60,
    "start_time": "2022-06-08T11:34:45.242Z"
   },
   {
    "duration": 76,
    "start_time": "2022-06-08T11:34:45.304Z"
   },
   {
    "duration": 10,
    "start_time": "2022-06-08T11:34:45.381Z"
   },
   {
    "duration": 8,
    "start_time": "2022-06-08T11:34:45.392Z"
   },
   {
    "duration": 76,
    "start_time": "2022-06-08T11:34:45.401Z"
   },
   {
    "duration": 13,
    "start_time": "2022-06-08T11:34:45.479Z"
   },
   {
    "duration": 13,
    "start_time": "2022-06-08T11:34:45.493Z"
   },
   {
    "duration": 25,
    "start_time": "2022-06-08T11:34:45.508Z"
   },
   {
    "duration": 13,
    "start_time": "2022-06-08T11:34:45.534Z"
   },
   {
    "duration": 7,
    "start_time": "2022-06-08T11:34:45.548Z"
   },
   {
    "duration": 10,
    "start_time": "2022-06-08T11:34:45.556Z"
   },
   {
    "duration": 6,
    "start_time": "2022-06-08T11:34:45.567Z"
   },
   {
    "duration": 11,
    "start_time": "2022-06-08T11:34:45.574Z"
   },
   {
    "duration": 61,
    "start_time": "2022-06-08T11:34:45.587Z"
   },
   {
    "duration": 46,
    "start_time": "2022-06-08T11:34:45.650Z"
   },
   {
    "duration": 68,
    "start_time": "2022-06-08T11:34:45.698Z"
   }
  ],
  "kernelspec": {
   "display_name": "Python 3",
   "language": "python",
   "name": "python3"
  },
  "language_info": {
   "codemirror_mode": {
    "name": "ipython",
    "version": 3
   },
   "file_extension": ".py",
   "mimetype": "text/x-python",
   "name": "python",
   "nbconvert_exporter": "python",
   "pygments_lexer": "ipython3",
   "version": "3.8.5"
  },
  "toc": {
   "base_numbering": 1,
   "nav_menu": {},
   "number_sections": true,
   "sideBar": true,
   "skip_h1_title": true,
   "title_cell": "Table of Contents",
   "title_sidebar": "Contents",
   "toc_cell": false,
   "toc_position": {},
   "toc_section_display": true,
   "toc_window_display": false
  }
 },
 "nbformat": 4,
 "nbformat_minor": 2
}
